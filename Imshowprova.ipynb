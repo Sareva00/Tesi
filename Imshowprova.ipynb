{
 "cells": [
  {
   "cell_type": "code",
   "execution_count": 2,
   "metadata": {},
   "outputs": [],
   "source": [
    "%matplotlib inline\n",
    "%config InlineBackend.figure_format = 'retina'\n",
    "import camb\n",
    "from camb import model, initialpower\n",
    "from camb.sources import GaussianSourceWindow, SplinedSourceWindow\n",
    "import numpy as np\n",
    "import sympy as sy\n",
    "from sympy import symbols\n",
    "from scipy import interpolate\n",
    "from scipy import optimize\n",
    "import matplotlib\n",
    "from matplotlib import pyplot as plt"
   ]
  },
  {
   "cell_type": "code",
   "execution_count": 10,
   "metadata": {},
   "outputs": [
    {
     "data": {
      "text/plain": [
       "array([[ 0,  0,  0,  0,  0,  0,  0,  0],\n",
       "       [ 0,  1,  2,  3,  4,  5,  6,  7],\n",
       "       [ 0,  2,  4,  6,  8, 10, 12, 14],\n",
       "       [ 0,  3,  6,  9, 12, 15, 18, 21],\n",
       "       [ 0,  4,  8, 12, 16, 20, 24, 28],\n",
       "       [ 0,  5, 10, 15, 20, 25, 30, 35],\n",
       "       [ 0,  6, 12, 18, 24, 30, 36, 42],\n",
       "       [ 0,  7, 14, 21, 28, 35, 42, 49]])"
      ]
     },
     "execution_count": 10,
     "metadata": {},
     "output_type": "execute_result"
    }
   ],
   "source": [
    "\n",
    "Z1 = np.add.outer(range(8), range(8))\n",
    "Z1"
   ]
  },
  {
   "cell_type": "code",
   "execution_count": null,
   "metadata": {},
   "outputs": [],
   "source": [
    "#def func3(x, y):\n",
    "#    return (1 - x / 2 + x**5 + y**3) * np.exp(-(x**2 + y**2))\n",
    "#\n",
    "#\n",
    "## make these smaller to increase the resolution\n",
    "#dx, dy = 0.05, 0.05\n",
    "#\n",
    "#x = np.arange(-3.0, 3.0, dx)\n",
    "#y = np.arange(-3.0, 3.0, dy)\n",
    "#X, Y = np.meshgrid(x, y)\n",
    "#\n",
    "## when layering multiple images, the images need to have the same\n",
    "## extent.  This does not mean they need to have the same shape, but\n",
    "## they both need to render to the same coordinate system determined by\n",
    "## xmin, xmax, ymin, ymax.  Note if you use different interpolations\n",
    "## for the images their apparent extent could be different due to\n",
    "## interpolation edge effects\n",
    "#\n",
    "#extent = np.min(x), np.max(x), np.min(y), np.max(y)\n",
    "#fig = plt.figure(frameon=False)\n",
    "#\n",
    "#Z1 = np.add.outer(range(8), range(8)) % 2  # chessboard\n",
    "#im1 = plt.imshow(Z1, cmap=plt.cm.gray, interpolation='nearest',\n",
    "#                 extent=extent)\n",
    "#\n",
    "#Z2 = func3(X, Y)\n",
    "#\n",
    "#im2 = plt.imshow(Z2, cmap=plt.cm.viridis, alpha=.9, interpolation='bilinear',\n",
    "#                 extent=extent)\n",
    "#\n",
    "#plt.show()"
   ]
  },
  {
   "cell_type": "markdown",
   "metadata": {},
   "source": [
    "'viridis', 'plasma', 'inferno', 'magma', 'cividis'\n",
    "'Greys', 'Purples', 'Blues', 'Greens', 'Oranges', 'Reds','YlOrBr', 'YlOrRd', 'OrRd', 'PuRd', 'RdPu', 'BuPu','GnBu', 'PuBu', 'YlGnBu', 'PuBuGn', 'BuGn', 'YlGn'"
   ]
  },
  {
   "cell_type": "code",
   "execution_count": null,
   "metadata": {},
   "outputs": [],
   "source": []
  }
 ],
 "metadata": {
  "kernelspec": {
   "display_name": "Python 3.9.7 ('base')",
   "language": "python",
   "name": "python3"
  },
  "language_info": {
   "codemirror_mode": {
    "name": "ipython",
    "version": 3
   },
   "file_extension": ".py",
   "mimetype": "text/x-python",
   "name": "python",
   "nbconvert_exporter": "python",
   "pygments_lexer": "ipython3",
   "version": "3.9.7"
  },
  "orig_nbformat": 4,
  "vscode": {
   "interpreter": {
    "hash": "a16dc526785c34c350c029294c9f2644c815a2c468f264c8890982736406c6b8"
   }
  }
 },
 "nbformat": 4,
 "nbformat_minor": 2
}
