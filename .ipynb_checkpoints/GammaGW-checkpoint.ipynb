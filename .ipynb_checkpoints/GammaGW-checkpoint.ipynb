{
 "cells": [
  {
   "cell_type": "code",
   "execution_count": 1,
   "metadata": {},
   "outputs": [],
   "source": [
    "%matplotlib inline\n",
    "%config InlineBackend.figure_format = 'retina'\n",
    "import camb\n",
    "from camb import model, initialpower\n",
    "from camb.sources import GaussianSourceWindow, SplinedSourceWindow\n",
    "import numpy as np\n",
    "import sympy as sy\n",
    "from sympy import symbols\n",
    "from scipy import interpolate\n",
    "from scipy import optimize\n",
    "import matplotlib\n",
    "from matplotlib import pyplot as plt"
   ]
  },
  {
   "cell_type": "code",
   "execution_count": 2,
   "metadata": {},
   "outputs": [
    {
     "data": {
      "text/plain": [
       "class: <InitialPowerLaw>\n",
       " tensor_parameterization = tensor_param_rpivot\n",
       " ns = 0.965\n",
       " nrun = 0.0\n",
       " nrunrun = 0.0\n",
       " nt = -0.0\n",
       " ntrun = -0.0\n",
       " r = 0.0\n",
       " pivot_scalar = 0.05\n",
       " pivot_tensor = 0.05\n",
       " As = 2e-09\n",
       " At = 1.0\n",
       " "
      ]
     },
     "execution_count": 2,
     "metadata": {},
     "output_type": "execute_result"
    }
   ],
   "source": [
    "##PARAMETRI INIZIALI\n",
    "\n",
    "pars = camb.CAMBparams()  #0.022 0.122 67.5\n",
    "pars.set_cosmology(H0=73, ombh2=0.023, omch2=0.111)   #H0= hubble parameter today in km/s    ombh2=physical density in baryons omch2=physical density in cold dark matter\n",
    "#trovo densità diverse...\n",
    "pars.InitPower.set_params(ns=0.965)  #ns = scalar spectra index (inflaction)\n"
   ]
  },
  {
   "cell_type": "code",
   "execution_count": null,
   "metadata": {},
   "outputs": [],
   "source": [
    "pars.set_matter_power(redshifts=[0.7], kmax=3.0)  \n",
    "pars.NonLinear = model.NonLinear_none\n",
    "results = camb.get_results(pars)   "
   ]
  },
  {
   "cell_type": "code",
   "execution_count": null,
   "metadata": {},
   "outputs": [],
   "source": [
    "def dist(z):   #funzione per trasformare il redshift in distanza\n",
    "    return results.comoving_radial_distance(z) #coefficiente per trasformare il redshift in un raggio, c/H0 = [km/s  / (km/s)/Mpc] = [Mpc], z è adimensionale"
   ]
  },
  {
   "cell_type": "code",
   "execution_count": null,
   "metadata": {},
   "outputs": [],
   "source": [
    "kh, z, pk = results.get_matter_power_spectrum(minkh=1e-2, maxkh=1e-1, npoints = 100) #nota, le z vengono ordinate, ricavo spettro di potenza"
   ]
  },
  {
   "cell_type": "code",
   "execution_count": null,
   "metadata": {},
   "outputs": [],
   "source": [
    "H0 = results.hubble_parameter(0)    #parametri di hubble\n",
    "h = H0/100\n",
    "def H(z):\n",
    "    return results.hubble_parameter(z)\n",
    "\n",
    "kh = kh/h  #H0 = 70km/(s*Mpc) h=0.7 ma non era senza unità di misura?\n",
    "pk = pk*h**3"
   ]
  },
  {
   "cell_type": "markdown",
   "metadata": {},
   "source": [
    "Derivata composta della distanza cìdi luminosità\n",
    "\n",
    "dr/dz =  c/H\n",
    "\n",
    "dl = (1+z)*r \n",
    "\n",
    "dl'= r + (1+z)*c/H"
   ]
  },
  {
   "cell_type": "code",
   "execution_count": null,
   "metadata": {},
   "outputs": [],
   "source": [
    "bias = 1 + z[0]*0.84   #funzione di bias delle galassie, cercane altre!!\n",
    "\n",
    "f = (results.get_fsigma8()/results.get_sigma8())\n",
    "dl = results.luminosity_distance(z[0])\n",
    "d= results.comoving_radial_distance(z[0])\n",
    " \n",
    "\n",
    "fl= (2*d)/(d+(1+z[0])*2.99e5/H(z[0]))\n",
    "\n",
    "mu = np.arange(-1,1,0.1)      #range di valori dell'angolo\n",
    "N = len(kh)*len(mu)   #numero di dati simulati"
   ]
  },
  {
   "cell_type": "code",
   "execution_count": null,
   "metadata": {},
   "outputs": [],
   "source": [
    "#Set di dati simulati spettro di potenza delle galassie\n",
    "\n",
    "Pgg = np.empty((len(kh),len(mu)))\n",
    "for i in range (len(kh)):\n",
    "    for j in range (len(mu)):\n",
    "        Pgg[i][j] = float((bias + fl *f * mu[j]**2)**2*pk[:,i])\n"
   ]
  },
  {
   "cell_type": "code",
   "execution_count": null,
   "metadata": {},
   "outputs": [],
   "source": [
    "#Dati per la funzione teorica\n",
    "\n",
    "om = results.get_Omega('cdm',0) + results.get_Omega('baryon',0)    #densità di materia nell'universo\n",
    "omz= om*(1+z[0])**3/(H(z[0])/H0)**2 #densità di materia a diverso z\n",
    "omz"
   ]
  },
  {
   "cell_type": "code",
   "execution_count": null,
   "metadata": {},
   "outputs": [],
   "source": [
    "print(f)\n",
    "print(fl)\n",
    "print(fl*f)\n",
    "print(omz**0.545)"
   ]
  },
  {
   "cell_type": "code",
   "execution_count": null,
   "metadata": {},
   "outputs": [],
   "source": [
    "##Errori dei dati simulati\n",
    "ng= 17.5*10**4/h**3   #mean galaxy number density for z near 0 (Euclid spettroscopy survey)\n",
    "DeltaMu = np.abs(mu[0]-mu[1])\n",
    "DeltaZ = 0.1\n",
    "DeltaK = np.empty((len(kh)))\n",
    "\n",
    "for i in range (len (kh)):\n",
    "    if i==0 : DeltaK[i]= np.abs(kh[i+1]-kh[i])\n",
    "    elif i==len(kh)-1:\n",
    "       DeltaK[i]= np.abs(kh[i-1]-kh[i])\n",
    "    else: DeltaK[i]= np.abs(kh[i+1]-kh[i])/2+ np.abs(kh[i-1]-kh[i])/2\n",
    "    if(DeltaK[i]<1e-2): DeltaK[i]=1e-2   #l'intervallo deve comunque essere più grande di kmin, se non lo è lo metto uguale a kmin\n",
    "    \n",
    "N = np.empty((len(kh),len(mu)))\n",
    "Vol = 4./3.*np.pi*((dist(z[0]+DeltaZ/2))**3-(dist(z[0]-DeltaZ/2)**3))    #calcolo il volume di cielo considerato, inmmagino di guardare il cielo su tutti gli angoli (ideale)\n",
    "\n",
    "for j in range(len(kh)):\n",
    "    N[j,:]= Vol*1/(2*np.pi)**2 * kh[j]**2*DeltaMu*DeltaK[j]  #uguale per tutte le mu\n",
    "\n",
    "err_Pgg = np.empty((len(kh),len(mu)))\n",
    "for i in range (len(kh)):\n",
    "    for j in range (len(mu)):\n",
    "        err_Pgg[i][j] = np.sqrt(2/N[i][j])*(Pgg[i][j]+1/ng)\n",
    "\n",
    "\n"
   ]
  },
  {
   "cell_type": "code",
   "execution_count": null,
   "metadata": {},
   "outputs": [],
   "source": [
    "#cerco la distanza minima, per risalire il kmin da mettere all'inizio del codice\n",
    "\n",
    "kmin= 2*np.pi/(dist(z[0]+DeltaZ/2)-dist(z[0]-DeltaZ/2))\n",
    "kmin*h"
   ]
  },
  {
   "cell_type": "code",
   "execution_count": null,
   "metadata": {},
   "outputs": [],
   "source": [
    "#faccio una trasformata di fuorier: considero il volume del guscio sferico come il volume di un cubo\n",
    "\n",
    "Diag = np.sqrt(3) * (64)**(1/3)\n",
    "2*np.pi/Diag"
   ]
  },
  {
   "cell_type": "code",
   "execution_count": null,
   "metadata": {},
   "outputs": [],
   "source": [
    "#Grafico\n",
    "\n",
    "fit, ax = plt.subplots()\n",
    "\n",
    "ax.set_xlabel('[k/h Mpc]')\n",
    "ax.set_xscale('log')\n",
    "ax.set_yscale('log')\n",
    "\n",
    "ax.plot(kh, pk[0,:], color='b', ls = '-')\n",
    "for i in range(len(mu)):\n",
    "    ax.plot(kh, Pgg[:,i], color='g', ls ='-')  #aggiungi gli errori\n",
    "\n",
    "#ax.legend(['matter','galaxy'], loc='lower left')\n",
    "#plt.title('Total Matter power at z=%s and z= %s'%tuple(z));"
   ]
  },
  {
   "cell_type": "code",
   "execution_count": null,
   "metadata": {},
   "outputs": [],
   "source": [
    "fit, ax = plt.subplots()\n",
    "\n",
    "ax.set_xlabel('[k/h Mpc]')\n",
    "ax.set_xscale('log')\n",
    "ax.set_yscale('log')\n",
    "\n",
    "ax.errorbar(kh, Pgg[:,0], yerr = err_Pgg[:,0], color='g', ls ='-')  #aggiungi gli errori\n",
    "print(err_Pgg[:,0])\n"
   ]
  },
  {
   "cell_type": "code",
   "execution_count": null,
   "metadata": {},
   "outputs": [],
   "source": [
    "gammas= np.arange(0.4,0.6,0.005)   #calcolo il chi quadro per un certo set di valori di gamma\n",
    "\n",
    "for k in range(len(gammas)):\n",
    "    gammas[k] = round (gammas[k],3)\n",
    "\n",
    "chi2 = np.zeros(len(gammas))\n",
    "\n",
    "\n",
    "for k,gamma in enumerate(gammas):\n",
    "    for i in range (len(kh)):\n",
    "        for j in range (len(mu)):\n",
    "            chi2[k]= chi2[k]+(float((bias + (omz**gamma)*fl * (mu[j])**2)**2*pk[:,i]) - Pgg[i][j])**2/err_Pgg[i][j]**2\n",
    "        \n",
    "\n"
   ]
  },
  {
   "cell_type": "code",
   "execution_count": null,
   "metadata": {},
   "outputs": [],
   "source": [
    "#INTERPOLAZIONE FUNZIONE CHI^2\n",
    "interpol =  interpolate.interp1d(gammas,chi2,kind='cubic')\n",
    "plt.plot(gammas,chi2,'-', gammas, interpol(gammas), '--')\n",
    "plt.legend(['data', 'cubic'])\n",
    "plt.xlabel(' gamma ')\n",
    "plt.ylabel('Chi^2')\n",
    "\n",
    "\n",
    "#plt.axis([0.54,0.56,0,3])"
   ]
  },
  {
   "cell_type": "code",
   "execution_count": null,
   "metadata": {},
   "outputs": [],
   "source": [
    "type(interpol)\n",
    "y=lambda x: interpol(x)\n"
   ]
  },
  {
   "cell_type": "code",
   "execution_count": null,
   "metadata": {},
   "outputs": [],
   "source": [
    "\n",
    "minimo = optimize.least_squares(y,0.5)\n",
    "min1= float(minimo.x)\n",
    "minimo"
   ]
  },
  {
   "cell_type": "code",
   "execution_count": null,
   "metadata": {},
   "outputs": [],
   "source": [
    "chi2min= y(min1)"
   ]
  },
  {
   "cell_type": "code",
   "execution_count": null,
   "metadata": {},
   "outputs": [],
   "source": [
    "min2= np.min(chi2)      #trova un valore minimo di chi2, solo a livello discreto, meno preciso\n",
    "index_min = np.argmin(chi2)\n",
    "gamma_min = gammas[index_min]\n",
    "gamma_min"
   ]
  },
  {
   "cell_type": "code",
   "execution_count": null,
   "metadata": {},
   "outputs": [],
   "source": [
    "plt.scatter(gammas,chi2)"
   ]
  },
  {
   "cell_type": "code",
   "execution_count": null,
   "metadata": {},
   "outputs": [],
   "source": [
    "#devo scalare il grafico\n",
    "plt.plot(gammas,chi2-chi2min,'-', gammas, interpol(gammas)-chi2min, '--')\n",
    "plt.legend(['data', 'cubic'])\n",
    "\n",
    "#CALCOLO DELL'ERRORE\n",
    "xpoints= np.arange(0.4,0.6,0.005)\n",
    "ypoints = np.ones(len(xpoints))\n",
    "plt.plot(xpoints,ypoints)\n",
    "\n"
   ]
  },
  {
   "cell_type": "code",
   "execution_count": null,
   "metadata": {},
   "outputs": [],
   "source": [
    "y2= lambda x: interpol(x) - 1 -chi2min\n",
    "error1 = optimize.brentq(y2,0.45,min1)    #trova le soluzioni in un intervallo fissato\n",
    "error2 = optimize.brentq(y2,min1,0.58)\n",
    "print(error1,error2)"
   ]
  },
  {
   "cell_type": "code",
   "execution_count": null,
   "metadata": {},
   "outputs": [],
   "source": [
    "print(np.abs(min1-error1))\n",
    "print(np.abs(min1-error2))\n",
    "\n",
    "sigma = 0.02"
   ]
  },
  {
   "cell_type": "code",
   "execution_count": null,
   "metadata": {},
   "outputs": [],
   "source": [
    "print(\"Il valore di gamma trovat è: \", round(min1,3) ,\" +- \", sigma)"
   ]
  },
  {
   "cell_type": "code",
   "execution_count": null,
   "metadata": {},
   "outputs": [],
   "source": [
    "#facciamo il fit, posso usare optimize perché ho l'errore su una sola variabile\n",
    "\n",
    "#def func(i, gamma):\n",
    "#    return (bias + (omz**gamma) * (mu[j])**2)**2*pk[:,i]\n",
    "#\n",
    "#index = np.array(0,len(kh),1)\n",
    "#popt, pcov = optimize.curve_fit(func, index , Pgg[:,?], err_Pgg)  #non so che fare con ste mu\n"
   ]
  },
  {
   "cell_type": "code",
   "execution_count": null,
   "metadata": {},
   "outputs": [],
   "source": []
  },
  {
   "cell_type": "code",
   "execution_count": null,
   "metadata": {},
   "outputs": [],
   "source": [
    "\n",
    "\n"
   ]
  }
 ],
 "metadata": {
  "interpreter": {
   "hash": "a16dc526785c34c350c029294c9f2644c815a2c468f264c8890982736406c6b8"
  },
  "kernelspec": {
   "display_name": "Python 3 (ipykernel)",
   "language": "python",
   "name": "python3"
  },
  "language_info": {
   "codemirror_mode": {
    "name": "ipython",
    "version": 3
   },
   "file_extension": ".py",
   "mimetype": "text/x-python",
   "name": "python",
   "nbconvert_exporter": "python",
   "pygments_lexer": "ipython3",
   "version": "3.9.7"
  }
 },
 "nbformat": 4,
 "nbformat_minor": 2
}
