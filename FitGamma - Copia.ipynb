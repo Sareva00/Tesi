{
 "cells": [
  {
   "cell_type": "code",
   "execution_count": 1,
   "metadata": {},
   "outputs": [],
   "source": [
    "%matplotlib inline\n",
    "#%config InlineBackend.figure_format = 'retina'\n",
    "import camb\n",
    "from camb import model, initialpower\n",
    "from camb.sources import GaussianSourceWindow, SplinedSourceWindow\n",
    "import numpy as np\n",
    "import sympy as sy\n",
    "from sympy import symbols\n",
    "import matplotlib\n",
    "from matplotlib import pyplot as plt"
   ]
  },
  {
   "cell_type": "code",
   "execution_count": 2,
   "metadata": {},
   "outputs": [
    {
     "data": {
      "text/plain": [
       "class: <InitialPowerLaw>\n",
       " tensor_parameterization = tensor_param_rpivot\n",
       " ns = 0.965\n",
       " nrun = 0.0\n",
       " nrunrun = 0.0\n",
       " nt = -0.0\n",
       " ntrun = -0.0\n",
       " r = 0.0\n",
       " pivot_scalar = 0.05\n",
       " pivot_tensor = 0.05\n",
       " As = 2e-09\n",
       " At = 1.0\n",
       " "
      ]
     },
     "execution_count": 2,
     "metadata": {},
     "output_type": "execute_result"
    }
   ],
   "source": [
    "##PARAMETRI INIZIALI\n",
    "\n",
    "pars = camb.CAMBparams()  #0.022 0.122 67.5\n",
    "pars.set_cosmology(H0=73, ombh2=0.023, omch2=0.111)   #H0= hubble parameter today in km/s    ombh2=physical density in baryons omch2=physical density in cold dark matter\n",
    "#trovo densità diverse...\n",
    "pars.InitPower.set_params(ns=0.965)  #ns = scalar spectra index (inflaction)\n"
   ]
  },
  {
   "cell_type": "code",
   "execution_count": 3,
   "metadata": {},
   "outputs": [],
   "source": [
    "pars.set_matter_power(redshifts=[1], kmax=2.0)  \n",
    "pars.NonLinear = model.NonLinear_none\n",
    "results = camb.get_results(pars)   "
   ]
  },
  {
   "cell_type": "code",
   "execution_count": 4,
   "metadata": {},
   "outputs": [],
   "source": [
    "kh, z, pk = results.get_matter_power_spectrum(minkh=1e-3, maxkh=1e-1, npoints = 100) #nota, le z vengono ordinate"
   ]
  },
  {
   "cell_type": "code",
   "execution_count": 5,
   "metadata": {},
   "outputs": [],
   "source": [
    "H0 = results.hubble_parameter(0) \n",
    "h = H0/100\n",
    "def H(z):\n",
    "    return results.hubble_parameter(z)"
   ]
  },
  {
   "cell_type": "code",
   "execution_count": 6,
   "metadata": {},
   "outputs": [],
   "source": [
    "bias = 1 + z[0]*0.84   #funzione di bias delle galassie, cercane altre!!\n",
    "f = (results.get_fsigma8()/results.get_sigma8())\n",
    " #la calcola alla z scelta già, UNITà DI MISURA\n",
    "\n",
    "kh = kh/h  #H0 = 70km/(s*Mpc) h=0.7 ma non era senza unità di misura?\n",
    "pk = pk*h**3\n",
    "\n",
    "mu = np.arange(-1,1,0.1)      #range di valori dell'angolo\n",
    "N = len(kh)*len(mu)   #numero di dati simulati"
   ]
  },
  {
   "cell_type": "code",
   "execution_count": 7,
   "metadata": {},
   "outputs": [
    {
     "data": {
      "text/plain": [
       "0.7263075672165862"
      ]
     },
     "execution_count": 7,
     "metadata": {},
     "output_type": "execute_result"
    }
   ],
   "source": [
    "om = results.get_Omega('cdm',0) + results.get_Omega('baryon',0)\n",
    "omz= om*(1+z[0])**3/(H(z[0])/H0)**2 #densità di materia a diverso z\n",
    "omz"
   ]
  },
  {
   "cell_type": "code",
   "execution_count": 8,
   "metadata": {},
   "outputs": [],
   "source": [
    "#Set di dati simulati spettro di potenza delle galassie\n",
    "\n",
    "Pgg = np.empty((len(kh),len(mu)))\n",
    "\n",
    "\n",
    "for i in range (len(kh)):\n",
    "    for j in range (len(mu)):\n",
    "        Pgg[i][j] = ( float(np.power(bias + omz**0.545 * np.power(mu[j],2),2)*pk[:,i]))\n"
   ]
  },
  {
   "cell_type": "code",
   "execution_count": 9,
   "metadata": {},
   "outputs": [
    {
     "data": {
      "text/plain": [
       "4603.689619595524"
      ]
     },
     "execution_count": 9,
     "metadata": {},
     "output_type": "execute_result"
    }
   ],
   "source": [
    "Pgg[1][2]\n"
   ]
  },
  {
   "cell_type": "code",
   "execution_count": null,
   "metadata": {},
   "outputs": [],
   "source": []
  },
  {
   "cell_type": "code",
   "execution_count": 10,
   "metadata": {},
   "outputs": [
    {
     "name": "stdout",
     "output_type": "stream",
     "text": [
      "[0.84301527]\n",
      "0.8400607816767275\n"
     ]
    }
   ],
   "source": [
    "print(f)\n",
    "print(omz**0.545)"
   ]
  },
  {
   "cell_type": "code",
   "execution_count": 11,
   "metadata": {},
   "outputs": [],
   "source": [
    "##Errori dei dati simulati\n",
    "ng= 15e-4   #mean galaxy number density for z near 0 (Euclid spettroscopy survey)\n",
    "DeltaMu = np.abs(mu[0]-mu[1])\n",
    "DeltaZ = 1\n",
    "DeltaK = np.empty((len(kh)))\n",
    "\n",
    "for i in range (len (kh)):\n",
    "    if i==0 : DeltaK[i]= np.abs(kh[i+1]-kh[i])\n",
    "    elif i==len(kh)-1:\n",
    "       DeltaK[i]= np.abs(kh[i-1]-kh[i])\n",
    "    else: DeltaK[i]= np.abs(kh[i+1]-kh[i])/2+ np.abs(kh[i-1]-kh[i])/2\n",
    "    \n",
    "    \n",
    "cost=(3e8/70)**3  #coefficiente per trasformare il redshift in un raggio\n",
    "\n",
    "N = np.empty((len(kh),len(mu)))\n",
    "Vol = 4./3.*np.pi*(cost*(z[0]+DeltaZ/2)**3-(z[0]-DeltaZ/2)**3)\n",
    "\n",
    "for j in range(len(kh)):\n",
    "    N[j,:]= Vol*1/(2*np.pi)**2 * kh[j]**2*DeltaMu*DeltaK[j]  #uguale per tutte le mu\n",
    "\n",
    "err_Pgg = np.empty((len(kh),len(mu)))\n",
    "for i in range (len(kh)):\n",
    "    for j in range (len(mu)):\n",
    "        err_Pgg[i][j] = np.sqrt(2/N[i][j])*(Pgg[i][j]+1/ng)\n",
    "\n",
    "\n"
   ]
  },
  {
   "cell_type": "code",
   "execution_count": 12,
   "metadata": {},
   "outputs": [
    {
     "name": "stdout",
     "output_type": "stream",
     "text": [
      "0.4\n",
      "0.401\n",
      "0.402\n",
      "0.403\n",
      "0.404\n",
      "0.405\n",
      "0.406\n",
      "0.407\n",
      "0.408\n",
      "0.409\n",
      "0.41\n",
      "0.411\n",
      "0.412\n",
      "0.413\n",
      "0.414\n",
      "0.415\n",
      "0.416\n",
      "0.417\n",
      "0.418\n",
      "0.419\n",
      "0.42\n",
      "0.421\n",
      "0.422\n",
      "0.423\n",
      "0.424\n",
      "0.425\n",
      "0.426\n",
      "0.427\n",
      "0.428\n",
      "0.429\n",
      "0.43\n",
      "0.431\n",
      "0.432\n",
      "0.433\n",
      "0.434\n",
      "0.435\n",
      "0.436\n",
      "0.437\n",
      "0.438\n",
      "0.439\n",
      "0.44\n",
      "0.441\n",
      "0.442\n",
      "0.443\n",
      "0.444\n",
      "0.445\n",
      "0.446\n",
      "0.447\n",
      "0.448\n",
      "0.449\n",
      "0.45\n",
      "0.451\n",
      "0.452\n",
      "0.453\n",
      "0.454\n",
      "0.455\n",
      "0.456\n",
      "0.457\n",
      "0.458\n",
      "0.459\n",
      "0.46\n",
      "0.461\n",
      "0.462\n",
      "0.463\n",
      "0.464\n",
      "0.465\n",
      "0.466\n",
      "0.467\n",
      "0.468\n",
      "0.469\n",
      "0.47\n",
      "0.471\n",
      "0.472\n",
      "0.473\n",
      "0.474\n",
      "0.475\n",
      "0.476\n",
      "0.477\n",
      "0.478\n",
      "0.479\n",
      "0.48\n",
      "0.481\n",
      "0.482\n",
      "0.483\n",
      "0.484\n",
      "0.485\n",
      "0.486\n",
      "0.487\n",
      "0.488\n",
      "0.489\n",
      "0.49\n",
      "0.491\n",
      "0.492\n",
      "0.493\n",
      "0.494\n",
      "0.495\n",
      "0.496\n",
      "0.497\n",
      "0.498\n",
      "0.499\n",
      "0.5\n",
      "0.501\n",
      "0.502\n",
      "0.503\n",
      "0.504\n",
      "0.505\n",
      "0.506\n",
      "0.507\n",
      "0.508\n",
      "0.509\n",
      "0.51\n",
      "0.511\n",
      "0.512\n",
      "0.513\n",
      "0.514\n",
      "0.515\n",
      "0.516\n",
      "0.517\n",
      "0.518\n",
      "0.519\n",
      "0.52\n",
      "0.521\n",
      "0.522\n",
      "0.523\n",
      "0.524\n",
      "0.525\n",
      "0.526\n",
      "0.527\n",
      "0.528\n",
      "0.529\n",
      "0.53\n",
      "0.531\n",
      "0.532\n",
      "0.533\n",
      "0.534\n",
      "0.535\n",
      "0.536\n",
      "0.537\n",
      "0.538\n",
      "0.539\n",
      "0.54\n",
      "0.541\n",
      "0.542\n",
      "0.543\n",
      "0.544\n",
      "0.545\n",
      "0.546\n",
      "0.547\n",
      "0.548\n",
      "0.549\n",
      "0.55\n",
      "0.551\n",
      "0.552\n",
      "0.553\n",
      "0.554\n",
      "0.555\n",
      "0.556\n",
      "0.557\n",
      "0.558\n",
      "0.559\n",
      "0.56\n",
      "0.561\n",
      "0.562\n",
      "0.563\n",
      "0.564\n",
      "0.565\n",
      "0.566\n",
      "0.567\n",
      "0.568\n",
      "0.569\n",
      "0.57\n",
      "0.571\n",
      "0.572\n",
      "0.573\n",
      "0.574\n",
      "0.575\n",
      "0.576\n",
      "0.577\n",
      "0.578\n",
      "0.579\n",
      "0.58\n",
      "0.581\n",
      "0.582\n",
      "0.583\n",
      "0.584\n",
      "0.585\n",
      "0.586\n",
      "0.587\n",
      "0.588\n",
      "0.589\n",
      "0.59\n",
      "0.591\n",
      "0.592\n",
      "0.593\n",
      "0.594\n",
      "0.595\n",
      "0.596\n",
      "0.597\n",
      "0.598\n",
      "0.599\n"
     ]
    }
   ],
   "source": [
    "gammas= np.arange(0.400,0.600,0.001)\n",
    "chi2 = np.empty(len(gammas))\n",
    "\n",
    "\n",
    "for k in range(len(gammas)):\n",
    "    gammas[k] = round (gammas[k],3)\n",
    "    print(gammas[k])\n",
    "    \n",
    "\n"
   ]
  },
  {
   "cell_type": "code",
   "execution_count": 13,
   "metadata": {},
   "outputs": [],
   "source": [
    "\n",
    "for k in range(len(gammas)):\n",
    "    for i in range (len(kh)):\n",
    "        for j in range (len(mu)):\n",
    "            chi2[k]= chi2[k]+(float((bias + (omz**gammas[k]) * (mu[j])**2)**2*pk[:,i]) - Pgg[i][j])**2/err_Pgg[i][j]**2\n",
    "\n"
   ]
  },
  {
   "cell_type": "code",
   "execution_count": 14,
   "metadata": {},
   "outputs": [
    {
     "data": {
      "text/plain": [
       "0.0"
      ]
     },
     "execution_count": 14,
     "metadata": {},
     "output_type": "execute_result"
    }
   ],
   "source": [
    "min= np.min(chi2)\n",
    "index_min = np.argmin(chi2)\n",
    "gamma_min = gammas[index_min]\n",
    "min"
   ]
  },
  {
   "cell_type": "code",
   "execution_count": 15,
   "metadata": {},
   "outputs": [
    {
     "data": {
      "text/plain": [
       "<matplotlib.collections.PathCollection at 0x1fc8d609ca0>"
      ]
     },
     "execution_count": 15,
     "metadata": {},
     "output_type": "execute_result"
    },
    {
     "data": {
      "image/png": "[encoded data removed]",
      "text/plain": [
       "<Figure size 432x288 with 1 Axes>"
      ]
     },
     "metadata": {
      "needs_background": "light"
     },
     "output_type": "display_data"
    }
   ],
   "source": [
    "plt.scatter(gammas,chi2)"
   ]
  },
  {
   "cell_type": "code",
   "execution_count": 16,
   "metadata": {},
   "outputs": [
    {
     "data": {
      "text/plain": [
       "array([5.67456743e+012, 5.25367379e+012, 4.85165376e+012, 4.46816440e+012,\n",
       "       4.10286830e+012, 3.75543351e+012, 7.26589776e+223, 3.11284681e+012,\n",
       "       2.81705751e+012, 2.53785457e+012, 2.27493202e+012, 2.02798889e+012,\n",
       "       1.79672905e+012, 1.58086116e+012, 1.38009863e+012, 1.19415948e+012,\n",
       "       1.02276633e+012, 8.65646256e+011, 7.22530790e+011, 5.93155802e+011,\n",
       "       4.77261447e+011, 3.74592094e+011, 2.84896260e+011, 2.07926541e+011,\n",
       "       1.43439549e+011, 9.11958470e+010, 5.09598872e+010, 2.24999469e+010,\n",
       "       5.58806854e+009, 3.52170940e-017, 9.05438530e+271, 2.19164549e+010,\n",
       "       4.89904724e+010, 8.65271741e+010, 1.34319966e+011, 1.92165619e+011,\n",
       "       2.59864216e+011, 3.37219096e+011, 4.24036808e+011, 5.20127054e+011])"
      ]
     },
     "execution_count": 16,
     "metadata": {},
     "output_type": "execute_result"
    }
   ],
   "source": [
    "chi2"
   ]
  },
  {
   "cell_type": "code",
   "execution_count": null,
   "metadata": {},
   "outputs": [],
   "source": []
  }
 ],
 "metadata": {
  "interpreter": {
   "hash": "a16dc526785c34c350c029294c9f2644c815a2c468f264c8890982736406c6b8"
  },
  "kernelspec": {
   "display_name": "Python 3 (ipykernel)",
   "language": "python",
   "name": "python3"
  },
  "language_info": {
   "codemirror_mode": {
    "name": "ipython",
    "version": 3
   },
   "file_extension": ".py",
   "mimetype": "text/x-python",
   "name": "python",
   "nbconvert_exporter": "python",
   "pygments_lexer": "ipython3",
   "version": "3.9.7"
  }
 },
 "nbformat": 4,
 "nbformat_minor": 2
}
