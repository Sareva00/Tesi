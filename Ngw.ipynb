{
 "cells": [
  {
   "cell_type": "code",
   "execution_count": 1,
   "metadata": {},
   "outputs": [],
   "source": [
    "%matplotlib inline\n",
    "%config InlineBackend.figure_format = 'retina'\n",
    "import camb\n",
    "from camb import model, initialpower\n",
    "from camb.sources import GaussianSourceWindow, SplinedSourceWindow\n",
    "import numpy as np\n",
    "import sympy as sy\n",
    "from sympy import symbols\n",
    "from scipy import interpolate\n",
    "from scipy import optimize\n",
    "import matplotlib\n",
    "from matplotlib import pyplot as plt\n",
    "import ngfunction"
   ]
  },
  {
   "cell_type": "code",
   "execution_count": 2,
   "metadata": {},
   "outputs": [
    {
     "data": {
      "text/plain": [
       "class: <InitialPowerLaw>\n",
       " tensor_parameterization = tensor_param_rpivot\n",
       " ns = 0.965\n",
       " nrun = 0.0\n",
       " nrunrun = 0.0\n",
       " nt = -0.0\n",
       " ntrun = -0.0\n",
       " r = 0.0\n",
       " pivot_scalar = 0.05\n",
       " pivot_tensor = 0.05\n",
       " As = 2e-09\n",
       " At = 1.0\n",
       " "
      ]
     },
     "execution_count": 2,
     "metadata": {},
     "output_type": "execute_result"
    }
   ],
   "source": [
    "##PARAMETRI INIZIALI\n",
    "\n",
    "pars = camb.CAMBparams()  #0.022 0.122 67.5\n",
    "pars.set_cosmology(H0=73, ombh2=0.023, omch2=0.111)   #H0= hubble parameter today in km/s    ombh2=physical density in baryons omch2=physical density in cold dark matter\n",
    "pars.InitPower.set_params(ns=0.965)  #ns = scalar spectra index (inflaction)\n"
   ]
  },
  {
   "cell_type": "code",
   "execution_count": 3,
   "metadata": {},
   "outputs": [
    {
     "name": "stdout",
     "output_type": "stream",
     "text": [
      "Note: redshifts have been re-sorted (earliest first)\n"
     ]
    }
   ],
   "source": [
    "zetas= np.array([0.7,0.9,1.4,1.8,2])\n",
    "pars.set_matter_power(redshifts=zetas, kmax=1.0)  \n",
    "pars.NonLinear = model.NonLinear_none\n",
    "results = camb.get_results(pars)   "
   ]
  },
  {
   "cell_type": "code",
   "execution_count": 4,
   "metadata": {},
   "outputs": [
    {
     "data": {
      "text/plain": [
       "[0.7, 0.9, 1.4, 1.8, 2.0]"
      ]
     },
     "execution_count": 4,
     "metadata": {},
     "output_type": "execute_result"
    }
   ],
   "source": [
    "kh, z, pk = results.get_matter_power_spectrum(minkh=2e-2, maxkh=1e-1, npoints = 100) #nota, le z vengono ordinate, ricavo spettro di potenza\n",
    "z"
   ]
  },
  {
   "cell_type": "code",
   "execution_count": 5,
   "metadata": {},
   "outputs": [],
   "source": [
    "H0 = results.hubble_parameter(0)    #parametri di hubble\n",
    "h = H0/100\n",
    "def H(z):\n",
    "    return results.hubble_parameter(z)\n",
    "\n",
    "def dist(z):   #funzione per trasformare il redshift in distanza\n",
    "    return results.comoving_radial_distance(z) #coefficiente per trasformare il redshift in un raggio, c/H0 = [km/s  / (km/s)/Mpc] = [Mpc], z è adimensionale\n",
    "\n",
    "kh = kh/h  #H0 = 70km/(s*Mpc) h=0.7 ma non era senza unità di misura?\n",
    "pk = pk*h**3"
   ]
  },
  {
   "cell_type": "code",
   "execution_count": 6,
   "metadata": {},
   "outputs": [],
   "source": [
    "z = np.array(z)"
   ]
  },
  {
   "cell_type": "code",
   "execution_count": 7,
   "metadata": {},
   "outputs": [
    {
     "data": {
      "text/plain": [
       "array([0.62105839, 0.69512272, 0.81937971, 0.87646453, 0.89630525])"
      ]
     },
     "execution_count": 7,
     "metadata": {},
     "output_type": "execute_result"
    }
   ],
   "source": [
    "om = results.get_Omega('cdm',0) + results.get_Omega('baryon',0)    #densità di materia nell'universo\n",
    "omz= om*(np.ones(len(z))+z)**3/(H(z)/H0)**2 #densità di materia a diverso z\n",
    "omz"
   ]
  },
  {
   "cell_type": "markdown",
   "metadata": {},
   "source": [
    "Derivata composta della distanza cìdi luminosità\n",
    "\n",
    "dr/dz =  c/H\n",
    "\n",
    "dl = (1+z)*r \n",
    "\n",
    "dl'= r + (1+z)*c/H"
   ]
  },
  {
   "cell_type": "code",
   "execution_count": 8,
   "metadata": {},
   "outputs": [],
   "source": [
    "bias = np.ones(len(z)) + z*0.84   #funzione di bias delle galassie, cercane altre!!\n",
    "\n",
    "f = (results.get_fsigma8()/results.get_sigma8())\n",
    "f = np.flipud(f)\n",
    "\n",
    "\n",
    "dl = results.luminosity_distance(z[0])\n",
    "d = results.comoving_radial_distance(z[0])\n",
    " \n",
    "fl= (2*d/(np.ones(len(z))+z))/(np.ones(len(z))*d+(np.ones(len(z))+z)*2.99e5/H(z))\n",
    "\n",
    "mu = np.arange(-1,1,0.1)      #range di valori dell'angolo\n",
    "N = len(kh)*len(mu)   #numero di dati simulati\n"
   ]
  },
  {
   "cell_type": "code",
   "execution_count": 9,
   "metadata": {},
   "outputs": [],
   "source": [
    "#Distribuzione di galassie e sorgenti di onde gravitazionali\n",
    "\n",
    "ng = np.empty(len(zetas))\n",
    "for i in range (len(zetas)):\n",
    "    ng[i]= ngfunction.Ng(z[i])*10**4/h**3   #mean galaxy number density for z near 0 (Euclid spettroscopy survey)\n",
    "\n",
    "X = np.arange(0.1,1.1,0.1)  #percentuale del numero medio di sorgenti di onde gravitazionali rispetto alle galassie\n",
    "ngw = np.empty((len(zetas),len(X)))\n",
    "\n",
    "for i in range (len(zetas)):\n",
    "    for j in range (len(X)):\n",
    "        ngw[i][j]= ng[i]*X[j]\n"
   ]
  },
  {
   "cell_type": "code",
   "execution_count": 10,
   "metadata": {},
   "outputs": [],
   "source": [
    "#Calcolo dei modi normali\n",
    "DeltaMu = np.abs(mu[0]-mu[1])\n",
    "DeltaZ = 0.1\n",
    "DeltaK = np.empty((len(kh)))\n",
    "\n",
    "for i in range (len (kh)):\n",
    "    if i==0 : DeltaK[i]= 2* np.abs(kh[i+1]-kh[i])\n",
    "    elif i==len(kh)-1:\n",
    "       DeltaK[i]= 2*np.abs(kh[i-1]-kh[i])\n",
    "    else: DeltaK[i]= np.abs(kh[i+1]-kh[i])/2+ np.abs(kh[i-1]-kh[i])/2\n",
    "    if(DeltaK[i]<1e-2): DeltaK[i]=1e-2   #l'intervallo deve comunque essere più grande di kmin, se non lo è lo metto uguale a kmin\n",
    "    \n",
    "N = np.empty((len(kh),len(mu),len(zetas)))\n",
    "Vol = np.empty(len(zetas))\n",
    "Vol = 4./3.*np.pi*((dist(z+np.ones(len(zetas))*DeltaZ/2))**3-(dist(z-np.ones(len(zetas))*DeltaZ/2)**3))    #calcolo il volume di cielo considerato, inmmagino di guardare il cielo su tutti gli angoli (ideale)\n",
    "\n",
    "for j in range(len(kh)):\n",
    "    for i in range (len(zetas)):\n",
    "        N[j,:,i]= Vol[i]/(2*np.pi)**3 * kh[j]**2*DeltaMu*DeltaK[j]  #uguale per tutte le mu\n"
   ]
  },
  {
   "cell_type": "markdown",
   "metadata": {},
   "source": [
    "# CALCOLO CON LE ONDE GRAVITAZIONALI"
   ]
  },
  {
   "cell_type": "code",
   "execution_count": 11,
   "metadata": {},
   "outputs": [],
   "source": [
    "#Set di dati simulati spettro di potenza delle galassie per onde gravitazionali\n",
    "\n",
    "Pgg = np.empty((len(kh),len(mu),len(zetas)))\n",
    "for i in range (len(kh)):\n",
    "    for j in range (len(mu)):\n",
    "        for m in range (len(zetas)):\n",
    "            Pgg[i][j][m] = float((bias[m] + fl[m] *f[m] * mu[j]**2)**2*pk[m,i])\n"
   ]
  },
  {
   "cell_type": "code",
   "execution_count": 12,
   "metadata": {},
   "outputs": [],
   "source": [
    "##Errori dei dati simulati\n",
    "err_Pgg = np.empty((len(kh),len(mu),len(zetas),len(X)))\n",
    "for i in range (len(kh)):\n",
    "    for j in range (len(mu)):\n",
    "        for k in range (len(zetas)):\n",
    "            for l in range (len(X)):\n",
    "                err_Pgg[i][j][k][l] = np.sqrt(2/N[i][j][k])*(Pgg[i][j][k]+1/ngw[k][l])\n",
    "            \n"
   ]
  },
  {
   "cell_type": "code",
   "execution_count": 13,
   "metadata": {},
   "outputs": [],
   "source": [
    "gammas= np.arange(0.3,0.7,0.005)   #calcolo il chi quadro per un certo set di valori di gamma\n",
    "\n",
    "for k in range(len(gammas)):\n",
    "    gammas[k] = round (gammas[k],3)"
   ]
  },
  {
   "cell_type": "code",
   "execution_count": 14,
   "metadata": {},
   "outputs": [],
   "source": [
    "chi2 = np.zeros((len(gammas),len(zetas), len(X)))\n",
    "\n",
    "for k,gamma in enumerate(gammas):\n",
    "    for m in range (len(zetas)):\n",
    "        for l in range (len(X)):\n",
    "            for i in range (len(kh)):\n",
    "                for j in range (len(mu)):\n",
    "                    chi2[k,m,l]= chi2[k,m,l]+(float((bias[m] + (omz[m]**gamma)*fl[m] * (mu[j])**2)**2*pk[m,i]) - Pgg[i][j][m])**2/err_Pgg[i][j][m][l]**2\n",
    "        \n"
   ]
  },
  {
   "cell_type": "code",
   "execution_count": 15,
   "metadata": {},
   "outputs": [
    {
     "data": {
      "text/plain": [
       "(0.3, 0.7, 0.0, 3.0)"
      ]
     },
     "execution_count": 15,
     "metadata": {},
     "output_type": "execute_result"
    },
    {
     "data": {
      "image/png": "[encoded data removed]",
      "text/plain": [
       "<Figure size 432x288 with 1 Axes>"
      ]
     },
     "metadata": {
      "image/png": {
       "height": 252,
       "width": 383
      },
      "needs_background": "light"
     },
     "output_type": "display_data"
    }
   ],
   "source": [
    "#INTERPOLAZIONE FUNZIONE CHI^2\n",
    "interpol= np.empty((len(zetas),len(X)), dtype=interpolate.interpolate.interp1d)\n",
    "for i in range (len(zetas)):\n",
    "    for l in range (len(X)):\n",
    "        interpol[i,l] =  interpolate.interp1d(gammas,chi2[:,i,l],kind='cubic')\n",
    "\n",
    "plt.plot(gammas, interpol[4,9](gammas), '--')\n",
    "#plt.legend(['data', 'cubic'])\n",
    "#plt.xlabel(' gamma ')\n",
    "#plt.ylabel('Chi^2')\n",
    "\n",
    "#RETTA PER GLI ERRORI\n",
    "xpoints= np.arange(-1,3,0.005)\n",
    "ypoints = np.ones(len(xpoints))\n",
    "plt.plot(xpoints,ypoints)\n",
    "\n",
    "plt.axis([0.3,0.7,0,3])\n"
   ]
  },
  {
   "cell_type": "code",
   "execution_count": 16,
   "metadata": {},
   "outputs": [],
   "source": [
    "#TRASFORMO IN  FUNZIONI\n",
    "y = [[0 for x in range(len(X))] for x in range(len(zetas))]\n",
    "\n",
    "for j in range (len(X)):\n",
    "    for i in range (len(zetas)):\n",
    "        def y_(x):\n",
    "            return interpol[i,j](x)\n",
    "        y[i][j] = y_\n",
    "\n"
   ]
  },
  {
   "cell_type": "code",
   "execution_count": 17,
   "metadata": {},
   "outputs": [],
   "source": [
    "#TROVO IL MINIMO DELLA FUNZIONE\n",
    "minimo = [[0 for x in range(len(X))] for x in range(len(zetas))]\n",
    "min= [[0 for x in range(len(X))] for x in range(len(zetas))]\n",
    "chi2min = [[0 for x in range(len(X))] for x in range(len(zetas))]\n",
    "\n",
    "for i in range (len(zetas)):\n",
    "    for j in range (len(X)):\n",
    "        minimo[i][j]=(optimize.least_squares(y[i][j],0.53))\n",
    "        min[i][j]=(float(minimo[i][j].x))\n",
    "        chi2min[i][j]=(y[i][j](min[i][j]))\n"
   ]
  },
  {
   "cell_type": "code",
   "execution_count": 18,
   "metadata": {},
   "outputs": [],
   "source": [
    "#TROVO INTERSEZIONE CON LA RETTA DEGLI ERRORI\n",
    "y1 = [[0 for x in range(len(X))] for x in range(len(zetas))]\n",
    "intersec1 = [[0 for x in range(len(X))] for x in range(len(zetas))]\n",
    "intersec2 = [[0 for x in range(len(X))] for x in range(len(zetas))]\n",
    "\n",
    "for i in range (len(zetas)):\n",
    "    for j in range (len(X)):\n",
    "        y1[i][j]=lambda x: interpol[i,j](x) - 1 -chi2min[i][j]\n",
    "        \n",
    "for i in range (len(zetas)):\n",
    "    for j in range (len(X)):  \n",
    "        intersec1[i][j]=(optimize.brentq(y1[i][j],0.35,min[i][j]))\n",
    "        intersec2[i][j]=(optimize.brentq(y1[i][j],min[i][j],0.68))    #trova le soluzioni in un intervallo fissato\n",
    "\n",
    "\n"
   ]
  },
  {
   "cell_type": "code",
   "execution_count": 19,
   "metadata": {},
   "outputs": [],
   "source": [
    "#TROVO GLI ERRORI\n",
    "sigmad = np.zeros((len(zetas),len(X)))\n",
    "sigmas = np.zeros((len(zetas),len(X)))\n",
    "\n",
    "for i in range (len(zetas)):\n",
    "    for j in range (len(X)):\n",
    "        sigmad[i][j]=np.abs(min[i][j]-intersec1[i][j])\n",
    "\n",
    "for i in range (len(zetas)):\n",
    "    for j in range (len(X)):\n",
    "        sigmas[i][j]=np.abs(min[i][j]-intersec2[i][j])\n",
    "\n",
    "sigma = (sigmas + sigmad)/2\n"
   ]
  },
  {
   "cell_type": "markdown",
   "metadata": {},
   "source": [
    "# CALCOLO CON IL REDSHIFT"
   ]
  },
  {
   "cell_type": "code",
   "execution_count": 20,
   "metadata": {},
   "outputs": [],
   "source": [
    "#Set di dati simulati spettro di potenza delle galassie per onde gravitazionali\n",
    "\n",
    "Pgg2 = np.empty((len(kh),len(mu),len(zetas)))\n",
    "for m in range (len(zetas)):\n",
    "    for i in range (len(kh)):\n",
    "        for j in range (len(mu)):\n",
    "            Pgg2[i][j][m] = float((bias[m] + f[m] * mu[j]**2)**2*pk[m,i])\n"
   ]
  },
  {
   "cell_type": "code",
   "execution_count": 21,
   "metadata": {},
   "outputs": [],
   "source": [
    "#Errori spettro di potenza, solo seconda parte perché la prima è uguale\n",
    "\n",
    "err_Pgg2 = np.empty((len(kh),len(mu),len(zetas)))\n",
    "for i in range (len(kh)):\n",
    "    for j in range (len(mu)):\n",
    "        for m in range (len(zetas)):\n",
    "            err_Pgg2[i][j][m] = np.sqrt(2/N[i][j][m])*(Pgg[i][j][m]+1/ng[m])"
   ]
  },
  {
   "cell_type": "code",
   "execution_count": 22,
   "metadata": {},
   "outputs": [],
   "source": [
    "chi22 = np.zeros((len(gammas),len(zetas)))\n",
    "\n",
    "for k,gamma in enumerate(gammas):\n",
    "    for m in range (len(zetas)):\n",
    "        for i in range (len(kh)):\n",
    "            for j in range (len(mu)):\n",
    "                chi22[k,m]= chi22[k,m]+(float((bias[m] + (omz[m]**gamma) * (mu[j])**2)**2*pk[m,i]) - Pgg2[i][j][m])**2/err_Pgg2[i][j][m]**2"
   ]
  },
  {
   "cell_type": "code",
   "execution_count": 23,
   "metadata": {},
   "outputs": [
    {
     "data": {
      "text/plain": [
       "(0.4, 0.6, 0.0, 3.0)"
      ]
     },
     "execution_count": 23,
     "metadata": {},
     "output_type": "execute_result"
    },
    {
     "data": {
      "image/png": "[encoded data removed]",
      "text/plain": [
       "<Figure size 432x288 with 1 Axes>"
      ]
     },
     "metadata": {
      "image/png": {
       "height": 252,
       "width": 386
      },
      "needs_background": "light"
     },
     "output_type": "display_data"
    }
   ],
   "source": [
    "#INTERPOLAZIONE FUNZIONE CHI^2\n",
    "interpol2= np.empty(len(zetas), dtype=interpolate.interpolate.interp1d)\n",
    "for i in range (len(zetas)):\n",
    "    interpol2[i] =  interpolate.interp1d(gammas,chi22[:,i],kind='cubic')\n",
    "\n",
    "plt.plot(gammas, interpol2[4](gammas), '--')\n",
    "#plt.legend(['data', 'cubic'])\n",
    "#plt.xlabel(' gamma ')\n",
    "#plt.ylabel('Chi^2')\n",
    "\n",
    "#RETTA PER GLI ERRORI\n",
    "xpoints= np.arange(-1,3,0.005)\n",
    "ypoints = np.ones(len(xpoints))\n",
    "plt.plot(xpoints,ypoints)\n",
    "\n",
    "plt.axis([0.4,0.6,0,3])\n"
   ]
  },
  {
   "cell_type": "code",
   "execution_count": 24,
   "metadata": {},
   "outputs": [],
   "source": [
    "#TRASFORMO IN  FUNZIONI\n",
    "y2 = []\n",
    "for i in range (len(zetas)):\n",
    "    def y_(x):\n",
    "        return interpol2[i](x)\n",
    "    y2.append(y_)"
   ]
  },
  {
   "cell_type": "code",
   "execution_count": 25,
   "metadata": {},
   "outputs": [
    {
     "data": {
      "text/plain": [
       "[0.5397519173408057,\n",
       " 0.5360196422877231,\n",
       " 0.5247444742959548,\n",
       " 0.512896365175733,\n",
       " 0.5058654067011314]"
      ]
     },
     "execution_count": 25,
     "metadata": {},
     "output_type": "execute_result"
    }
   ],
   "source": [
    "#TROVO IL MINIMO DELLA FUNZIONE\n",
    "minimo2 =[]\n",
    "min2=[]\n",
    "chi2min2 = []\n",
    "\n",
    "for i in range (len(zetas)):\n",
    "    minimo2.append(optimize.least_squares(y2[i],0.53))\n",
    "    min2.append(float(minimo2[i].x))\n",
    "    chi2min2.append(y2[i](min2[i]))\n",
    "\n",
    "min2"
   ]
  },
  {
   "cell_type": "code",
   "execution_count": 26,
   "metadata": {},
   "outputs": [
    {
     "name": "stdout",
     "output_type": "stream",
     "text": [
      "[0.5332955088617904, 0.5286151623479489, 0.51245003529661, 0.493650595472709, 0.481872273779564] [0.5462359531254808, 0.543453000769634, 0.5370708885076648, 0.5321847496697939, 0.5299110499179178]\n"
     ]
    }
   ],
   "source": [
    "#TROVO INTERSEZIONE CON LA RETTA DEGLI ERRORI\n",
    "f2 = []\n",
    "intersec12 = []\n",
    "intersec22 = []\n",
    "\n",
    "for i in range (len(zetas)):\n",
    "    f2.append(lambda x: interpol2[i](x) - 1 -chi2min2[i])\n",
    "    \n",
    "for i in range (len(zetas)):  \n",
    "    intersec12.append(optimize.brentq(f2[i],0.35,min2[i]))\n",
    "    intersec22.append(optimize.brentq(f2[i],min2[i],0.68))    #trova le soluzioni in un intervallo fissato\n",
    "\n",
    "print(intersec12,intersec22)\n"
   ]
  },
  {
   "cell_type": "code",
   "execution_count": 27,
   "metadata": {},
   "outputs": [],
   "source": [
    "#TROVO GLI ERRORI\n",
    "sigmad2 = np.zeros(len(zetas))\n",
    "sigmas2 = np.zeros(len(zetas))\n",
    "\n",
    "for i in range (len(zetas)):\n",
    "    sigmad2[i]=np.abs(min2[i]-intersec12[i])\n",
    "\n",
    "for i in range (len(zetas)):\n",
    "    sigmas2[i]=np.abs(min2[i]-intersec22[i])\n",
    "\n",
    "sigma2 = (sigmas2 + sigmad2)/2\n"
   ]
  },
  {
   "cell_type": "markdown",
   "metadata": {},
   "source": [
    "# CALCOLO CROSS CORRELATION"
   ]
  },
  {
   "cell_type": "code",
   "execution_count": 28,
   "metadata": {},
   "outputs": [],
   "source": [
    "Pgg3 = np.empty((len(kh),len(mu),len(zetas)))\n",
    "for m in range (len(zetas)):\n",
    "    for i in range (len(kh)):\n",
    "        for j in range (len(mu)):\n",
    "            Pgg3[i][j][m] = float((bias[m] + fl[m] *f[m] * mu[j]**2)*(bias[m] + f[m] * mu[j]**2)*pk[m,i])"
   ]
  },
  {
   "cell_type": "code",
   "execution_count": 29,
   "metadata": {},
   "outputs": [],
   "source": [
    "#Errori spettro di potenza, solo seconda parte perché la prima è uguale\n",
    "\n",
    "err_Pgg3 = np.empty((len(kh),len(mu),len(zetas),len(X)))\n",
    "for i in range (len(kh)):\n",
    "    for j in range (len(mu)):\n",
    "        for k in range (len(zetas)):\n",
    "            for l in range (len(X)):\n",
    "                err_Pgg3[i][j][k][l] = np.sqrt( (Pgg3[i][j][k]+1/np.sqrt(ngw[k][l]*ng[k])**2 + (Pgg2[i][j][k]+1/ng[k]) * (Pgg[i][j][k]+1/ngw[k][l])) /N[i][j][k])"
   ]
  },
  {
   "cell_type": "code",
   "execution_count": 30,
   "metadata": {},
   "outputs": [],
   "source": [
    "chi23 = np.zeros((len(gammas),len(zetas), len(X)))\n",
    "\n",
    "for k,gamma in enumerate(gammas):\n",
    "    for m in range (len(zetas)):\n",
    "        for l in range (len(X)):\n",
    "            for i in range (len(kh)):\n",
    "                for j in range (len(mu)):\n",
    "                    chi23[k,m,l]= chi23[k,m,l]+float(((bias[m] + (omz[m]**gamma)*fl[m] * (mu[j])**2)*(bias[m] + (omz[m]**gamma)* (mu[j])**2)*pk[m,i]) - Pgg3[i][j][m])**2/err_Pgg3[i][j][m][l]**2\n"
   ]
  },
  {
   "cell_type": "code",
   "execution_count": 31,
   "metadata": {},
   "outputs": [
    {
     "data": {
      "text/plain": [
       "(0.3, 0.7, 0.0, 10.0)"
      ]
     },
     "execution_count": 31,
     "metadata": {},
     "output_type": "execute_result"
    },
    {
     "data": {
      "image/png": "[encoded data removed]",
      "text/plain": [
       "<Figure size 432x288 with 1 Axes>"
      ]
     },
     "metadata": {
      "image/png": {
       "height": 252,
       "width": 380
      },
      "needs_background": "light"
     },
     "output_type": "display_data"
    }
   ],
   "source": [
    "#INTERPOLAZIONE FUNZIONE CHI^2\n",
    "interpol3= np.empty((len(zetas),len(X)), dtype=interpolate.interpolate.interp1d)\n",
    "for i in range (len(zetas)):\n",
    "    for l in range (len(X)):\n",
    "        interpol3[i,l] =  interpolate.interp1d(gammas,chi23[:,i,l],kind='cubic')\n",
    "\n",
    "plt.plot(gammas, interpol3[4,9](gammas), '--')\n",
    "#plt.legend(['data', 'cubic'])\n",
    "#plt.xlabel(' gamma ')\n",
    "#plt.ylabel('Chi^2')\n",
    "\n",
    "#RETTA PER GLI ERRORI\n",
    "xpoints= np.arange(-1,3,0.005)\n",
    "ypoints = np.ones(len(xpoints))\n",
    "plt.plot(xpoints,ypoints)\n",
    "\n",
    "plt.axis([0.3,0.7,0,10])\n"
   ]
  },
  {
   "cell_type": "code",
   "execution_count": 32,
   "metadata": {},
   "outputs": [],
   "source": [
    "y3 = [[0 for x in range(len(X))] for x in range(len(zetas))]\n",
    "\n",
    "for j in range (len(X)):\n",
    "    for i in range (len(zetas)):\n",
    "        def y_(x):\n",
    "            return interpol3[i,j](x)\n",
    "        y3[i][j] = y_\n"
   ]
  },
  {
   "cell_type": "code",
   "execution_count": 33,
   "metadata": {},
   "outputs": [],
   "source": [
    "#TROVO IL MINIMO DELLA FUNZIONE\n",
    "minimo3 = [[0 for x in range(len(X))] for x in range(len(zetas))]\n",
    "min3= [[0 for x in range(len(X))] for x in range(len(zetas))]\n",
    "chi2min3 = [[0 for x in range(len(X))] for x in range(len(zetas))]\n",
    "\n",
    "for i in range (len(zetas)):\n",
    "    for j in range (len(X)):\n",
    "        minimo3[i][j]=(optimize.least_squares(y3[i][j],0.5))\n",
    "        min3[i][j]=(float(minimo3[i][j].x))\n",
    "        chi2min3[i][j]=(y[i][j](min3[i][j]))"
   ]
  },
  {
   "cell_type": "code",
   "execution_count": 34,
   "metadata": {},
   "outputs": [],
   "source": [
    "#TROVO INTERSEZIONE CON LA RETTA DEGLI ERRORI\n",
    "f3 = [[0 for x in range(len(X))] for x in range(len(zetas))]\n",
    "intersec13 = [[0 for x in range(len(X))] for x in range(len(zetas))]\n",
    "intersec23 = [[0 for x in range(len(X))] for x in range(len(zetas))]\n",
    "\n",
    "for i in range (len(zetas)):\n",
    "    for j in range (len(X)):\n",
    "        f3[i][j]=lambda x: interpol3[i,j](x) - 1 -chi2min3[i][j]\n",
    "        \n",
    "for i in range (len(zetas)):\n",
    "    for j in range (len(X)):  \n",
    "        intersec13[i][j]=(optimize.brentq(f3[i][j],0.35,min3[i][j]))\n",
    "        intersec23[i][j]=(optimize.brentq(f3[i][j],min3[i][j],0.68))    #trova le soluzioni in un intervallo fissato\n",
    "\n"
   ]
  },
  {
   "cell_type": "code",
   "execution_count": 35,
   "metadata": {},
   "outputs": [],
   "source": [
    "sigmad3 = np.zeros((len(zetas),len(X)))\n",
    "sigmas3 = np.zeros((len(zetas),len(X)))\n",
    "\n",
    "for i in range (len(zetas)):\n",
    "    for j in range (len(X)):\n",
    "        sigmad3[i][j]=np.abs(min3[i][j]-intersec13[i][j])\n",
    "\n",
    "for i in range (len(zetas)):\n",
    "    for j in range (len(X)):\n",
    "        sigmas3[i][j]=np.abs(min3[i][j]-intersec23[i][j])\n",
    "\n",
    "sigma3 = (sigmas3 + sigmad3)/2\n"
   ]
  },
  {
   "cell_type": "markdown",
   "metadata": {},
   "source": [
    "# GRAFICI DI CONFRONTO"
   ]
  },
  {
   "cell_type": "code",
   "execution_count": 36,
   "metadata": {},
   "outputs": [
    {
     "data": {
      "text/plain": [
       "[<matplotlib.lines.Line2D at 0x2486d413640>]"
      ]
     },
     "execution_count": 36,
     "metadata": {},
     "output_type": "execute_result"
    },
    {
     "data": {
      "image/png": "[encoded data removed]",
      "text/plain": [
       "<Figure size 432x288 with 1 Axes>"
      ]
     },
     "metadata": {
      "image/png": {
       "height": 258,
       "width": 372
      },
      "needs_background": "light"
     },
     "output_type": "display_data"
    }
   ],
   "source": [
    "plt.plot(X,sigma[0,:]/sigma2[0], '--')"
   ]
  },
  {
   "cell_type": "code",
   "execution_count": 37,
   "metadata": {},
   "outputs": [
    {
     "data": {
      "text/plain": [
       "[<matplotlib.lines.Line2D at 0x2486d470c40>]"
      ]
     },
     "execution_count": 37,
     "metadata": {},
     "output_type": "execute_result"
    },
    {
     "data": {
      "image/png": "[encoded data removed]",
      "text/plain": [
       "<Figure size 432x288 with 1 Axes>"
      ]
     },
     "metadata": {
      "image/png": {
       "height": 258,
       "width": 378
      },
      "needs_background": "light"
     },
     "output_type": "display_data"
    }
   ],
   "source": [
    "plt.plot(X,sigma3[0,:]/sigma2[0], '--')"
   ]
  },
  {
   "cell_type": "code",
   "execution_count": 38,
   "metadata": {},
   "outputs": [
    {
     "data": {
      "text/plain": [
       "[<matplotlib.lines.Line2D at 0x2486da28520>]"
      ]
     },
     "execution_count": 38,
     "metadata": {},
     "output_type": "execute_result"
    },
    {
     "data": {
      "image/png": "[encoded data removed]",
      "text/plain": [
       "<Figure size 432x288 with 1 Axes>"
      ]
     },
     "metadata": {
      "image/png": {
       "height": 248,
       "width": 378
      },
      "needs_background": "light"
     },
     "output_type": "display_data"
    }
   ],
   "source": [
    "plt.plot(X,np.ones(len(X))*sigma2[0]/sigma2[0], '--')"
   ]
  },
  {
   "cell_type": "code",
   "execution_count": 39,
   "metadata": {},
   "outputs": [],
   "source": [
    "#cose da fare: fare grafico 2d"
   ]
  }
 ],
 "metadata": {
  "interpreter": {
   "hash": "a16dc526785c34c350c029294c9f2644c815a2c468f264c8890982736406c6b8"
  },
  "kernelspec": {
   "display_name": "Python 3 (ipykernel)",
   "language": "python",
   "name": "python3"
  },
  "language_info": {
   "codemirror_mode": {
    "name": "ipython",
    "version": 3
   },
   "file_extension": ".py",
   "mimetype": "text/x-python",
   "name": "python",
   "nbconvert_exporter": "python",
   "pygments_lexer": "ipython3",
   "version": "3.9.7"
  }
 },
 "nbformat": 4,
 "nbformat_minor": 2
}
