{
 "cells": [
  {
   "cell_type": "code",
   "execution_count": 1,
   "metadata": {},
   "outputs": [],
   "source": [
    "%matplotlib inline\n",
    "%config InlineBackend.figure_format = 'retina'\n",
    "import camb\n",
    "from camb import model, initialpower\n",
    "from camb.sources import GaussianSourceWindow, SplinedSourceWindow\n",
    "import numpy as np\n",
    "import sympy as sy\n",
    "from sympy import symbols\n",
    "from scipy import interpolate\n",
    "from scipy import optimize\n",
    "import matplotlib\n",
    "from matplotlib import pyplot as plt"
   ]
  },
  {
   "cell_type": "code",
   "execution_count": 2,
   "metadata": {},
   "outputs": [
    {
     "data": {
      "text/plain": [
       "class: <InitialPowerLaw>\n",
       " tensor_parameterization = tensor_param_rpivot\n",
       " ns = 0.9665\n",
       " nrun = 0.0\n",
       " nrunrun = 0.0\n",
       " nt = -0.0\n",
       " ntrun = -0.0\n",
       " r = 0.0\n",
       " pivot_scalar = 0.05\n",
       " pivot_tensor = 0.05\n",
       " As = 2e-09\n",
       " At = 1.0\n",
       " "
      ]
     },
     "execution_count": 2,
     "metadata": {},
     "output_type": "execute_result"
    }
   ],
   "source": [
    "##PARAMETRI INIZIALI\n",
    "\n",
    "pars = camb.CAMBparams()  #0.022 0.122 67.5\n",
    "pars.set_cosmology(H0=67.66, ombh2=0.02242, omch2=0.11933)   #H0= hubble parameter today in km/s    ombh2=physical density in baryons omch2=physical density in cold dark matter\n",
    "#trovo densità diverse...\n",
    "pars.InitPower.set_params(ns=0.9665)  #ns = scalar spectra index (inflaction)\n"
   ]
  },
  {
   "cell_type": "markdown",
   "metadata": {},
   "source": [
    "Articolo - Dato originale\n",
    "\n",
    "H0= 67.66    73\n",
    "\n",
    "Omega_k = 0.0  \n",
    "\n",
    "ns= 0.9665    0.965\n",
    "\n",
    "Omega_c = 0.11933  0.111\n",
    "\n",
    "Omega_b = 0.02242  0.023"
   ]
  },
  {
   "cell_type": "code",
   "execution_count": 3,
   "metadata": {},
   "outputs": [],
   "source": [
    "Z = np.arange(0,6.5,0.1)"
   ]
  },
  {
   "cell_type": "code",
   "execution_count": 4,
   "metadata": {},
   "outputs": [
    {
     "name": "stdout",
     "output_type": "stream",
     "text": [
      "Note: redshifts have been re-sorted (earliest first)\n"
     ]
    }
   ],
   "source": [
    "pars.set_matter_power(redshifts=Z, kmax=3.0)  \n",
    "pars.NonLinear = model.NonLinear_none\n",
    "results = camb.get_results(pars)   "
   ]
  },
  {
   "cell_type": "code",
   "execution_count": 5,
   "metadata": {},
   "outputs": [],
   "source": [
    "kh, z, pk = results.get_matter_power_spectrum(minkh=1e-2, maxkh=1e-1, npoints = 100) #nota, le z vengono ordinate, ricavo spettro di potenza\n",
    "#nota, non vengono rordinate le z ma solo i rsultati?"
   ]
  },
  {
   "cell_type": "code",
   "execution_count": 6,
   "metadata": {},
   "outputs": [],
   "source": [
    "H0 = results.hubble_parameter(0)    #parametri di hubble\n",
    "h = H0/100\n",
    "def H(z):\n",
    "    return results.hubble_parameter(z)\n",
    "\n",
    "kh = kh/h  #H0 = 70km/(s*Mpc) h=0.7 ma non era senza unità di misura?\n",
    "pk = pk*h**3"
   ]
  },
  {
   "cell_type": "code",
   "execution_count": 7,
   "metadata": {},
   "outputs": [],
   "source": [
    "\n",
    "\n",
    "f = (results.get_fsigma8()/results.get_sigma8())\n",
    "dl = results.luminosity_distance(z)\n",
    "\n",
    "d = np.zeros(len(z))\n",
    "for i,zt in enumerate(z):\n",
    "    d[i] = results.comoving_radial_distance(zt)   #trova la distanza comovente perché non lo fa con l'array\n",
    " #la calcola alla z scelta già, UNITà DI MISURA\n",
    "\n",
    "z = np.array(z)\n",
    "f = np.flipud(f)  #inverte l'array perché l'ha messo nell'ordine sbagliato"
   ]
  },
  {
   "cell_type": "code",
   "execution_count": 8,
   "metadata": {},
   "outputs": [
    {
     "data": {
      "text/plain": [
       "numpy.ndarray"
      ]
     },
     "execution_count": 8,
     "metadata": {},
     "output_type": "execute_result"
    }
   ],
   "source": [
    "fl= (2*dl/(1+z))/(d+(1+z)*2.99e5/H(z))\n",
    "type(f)"
   ]
  },
  {
   "cell_type": "code",
   "execution_count": 9,
   "metadata": {},
   "outputs": [],
   "source": [
    "f1 =  interpolate.interp1d(z,fl,kind='cubic')\n",
    "f2 =  interpolate.interp1d(z,f,kind='cubic')\n"
   ]
  },
  {
   "cell_type": "code",
   "execution_count": 14,
   "metadata": {},
   "outputs": [
    {
     "data": {
      "text/plain": [
       "[<matplotlib.lines.Line2D at 0x2c71461b1f0>]"
      ]
     },
     "execution_count": 14,
     "metadata": {},
     "output_type": "execute_result"
    },
    {
     "data": {
      "image/png": "[encoded data removed]",
      "text/plain": [
       "<Figure size 432x288 with 1 Axes>"
      ]
     },
     "metadata": {
      "image/png": {
       "height": 261,
       "width": 385
      },
      "needs_background": "light"
     },
     "output_type": "display_data"
    }
   ],
   "source": [
    "fit, ax = plt.subplots()\n",
    "#ax.plot(z,f1(z),'g', z,f2(z),'b')\n",
    "ax.plot(z,f1(z),'g')\n",
    "ax.set_xlabel('z')\n",
    "ax.set_ylabel('Tasso di crescita')\n",
    "#ax.legend(['fl','f'])\n",
    "\n",
    "xpoints= np.arange(0,7,1)\n",
    "ypoints = np.ones(len(xpoints))\n",
    "plt.plot(xpoints,ypoints, '--')\n",
    "\n",
    "\n",
    "#plt.axis([0.5,1.4,0,1.5])"
   ]
  },
  {
   "cell_type": "code",
   "execution_count": 11,
   "metadata": {},
   "outputs": [
    {
     "data": {
      "text/plain": [
       "1.278522449379787"
      ]
     },
     "execution_count": 11,
     "metadata": {},
     "output_type": "execute_result"
    }
   ],
   "source": [
    "y2= lambda x: f1(x) - f2(x)\n",
    "error1 = optimize.brentq(y2,1,2) \n",
    "error1"
   ]
  },
  {
   "cell_type": "code",
   "execution_count": 12,
   "metadata": {},
   "outputs": [
    {
     "name": "stdout",
     "output_type": "stream",
     "text": [
      "0.9981886881792167\n",
      "1.0007682158708027\n",
      "1.0033312409576725\n",
      "1.0058779346510416\n",
      "1.008408452563582\n",
      "1.0109229464083294\n",
      "1.0134215678983203\n",
      "1.015904468746591\n",
      "1.0183718006661773\n",
      "1.0208237153701154\n",
      "1.0232603645714415\n",
      "1.0256818999831918\n"
     ]
    }
   ],
   "source": [
    "x = np.arange(1.58,1.7,0.01)    #interseca l'uno nell'intervallo \n",
    "for i in x:\n",
    "    print(f1(i))"
   ]
  },
  {
   "cell_type": "code",
   "execution_count": null,
   "metadata": {},
   "outputs": [],
   "source": []
  },
  {
   "cell_type": "code",
   "execution_count": 13,
   "metadata": {},
   "outputs": [
    {
     "data": {
      "text/plain": [
       "array(0.81303544)"
      ]
     },
     "execution_count": 13,
     "metadata": {},
     "output_type": "execute_result"
    }
   ],
   "source": [
    "f1(1)"
   ]
  },
  {
   "cell_type": "code",
   "execution_count": null,
   "metadata": {},
   "outputs": [],
   "source": []
  }
 ],
 "metadata": {
  "kernelspec": {
   "display_name": "Python 3.9.7 ('base')",
   "language": "python",
   "name": "python3"
  },
  "language_info": {
   "codemirror_mode": {
    "name": "ipython",
    "version": 3
   },
   "file_extension": ".py",
   "mimetype": "text/x-python",
   "name": "python",
   "nbconvert_exporter": "python",
   "pygments_lexer": "ipython3",
   "version": "3.9.7"
  },
  "orig_nbformat": 4,
  "vscode": {
   "interpreter": {
    "hash": "a16dc526785c34c350c029294c9f2644c815a2c468f264c8890982736406c6b8"
   }
  }
 },
 "nbformat": 4,
 "nbformat_minor": 2
}
