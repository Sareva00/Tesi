{
 "cells": [
  {
   "cell_type": "code",
   "execution_count": 2,
   "metadata": {},
   "outputs": [],
   "source": [
    "%matplotlib inline\n",
    "%config InlineBackend.figure_format = 'retina'\n",
    "import camb\n",
    "from camb import model, initialpower\n",
    "from camb.sources import GaussianSourceWindow, SplinedSourceWindow\n",
    "import numpy as np\n",
    "import sympy as sy\n",
    "from sympy import symbols\n",
    "from scipy import interpolate\n",
    "from scipy import optimize\n",
    "import matplotlib\n",
    "from matplotlib import pyplot as plt\n",
    "import ngfunction"
   ]
  },
  {
   "cell_type": "code",
   "execution_count": 3,
   "metadata": {},
   "outputs": [
    {
     "data": {
      "text/plain": [
       "class: <InitialPowerLaw>\n",
       " tensor_parameterization = tensor_param_rpivot\n",
       " ns = 0.965\n",
       " nrun = 0.0\n",
       " nrunrun = 0.0\n",
       " nt = -0.0\n",
       " ntrun = -0.0\n",
       " r = 0.0\n",
       " pivot_scalar = 0.05\n",
       " pivot_tensor = 0.05\n",
       " As = 2e-09\n",
       " At = 1.0\n",
       " "
      ]
     },
     "execution_count": 3,
     "metadata": {},
     "output_type": "execute_result"
    }
   ],
   "source": [
    "##PARAMETRI INIZIALI\n",
    "\n",
    "pars = camb.CAMBparams()  #0.022 0.122 67.5\n",
    "pars.set_cosmology(H0=73, ombh2=0.023, omch2=0.111)   #H0= hubble parameter today in km/s    ombh2=physical density in baryons omch2=physical density in cold dark matter\n",
    "#trovo densità diverse...\n",
    "pars.InitPower.set_params(ns=0.965)  #ns = scalar spectra index (inflaction)\n"
   ]
  },
  {
   "cell_type": "code",
   "execution_count": 4,
   "metadata": {},
   "outputs": [
    {
     "name": "stdout",
     "output_type": "stream",
     "text": [
      "Note: redshifts have been re-sorted (earliest first)\n"
     ]
    }
   ],
   "source": [
    "zetas= np.array([0.7,1.4,2])\n",
    "pars.set_matter_power(redshifts=zetas, kmax=1.0)  \n",
    "pars.NonLinear = model.NonLinear_none\n",
    "results = camb.get_results(pars)   "
   ]
  },
  {
   "cell_type": "code",
   "execution_count": 5,
   "metadata": {},
   "outputs": [
    {
     "data": {
      "text/plain": [
       "[0.7, 1.4, 2.0]"
      ]
     },
     "execution_count": 5,
     "metadata": {},
     "output_type": "execute_result"
    }
   ],
   "source": [
    "kh, z, pk = results.get_matter_power_spectrum(minkh=2e-2, maxkh=1e-1, npoints = 100) #nota, le z vengono ordinate, ricavo spettro di potenza\n",
    "z"
   ]
  },
  {
   "cell_type": "code",
   "execution_count": 6,
   "metadata": {},
   "outputs": [],
   "source": [
    "H0 = results.hubble_parameter(0)    #parametri di hubble\n",
    "h = H0/100\n",
    "def H(z):\n",
    "    return results.hubble_parameter(z)\n",
    "\n",
    "def dist(z):   #funzione per trasformare il redshift in distanza\n",
    "    return results.comoving_radial_distance(z) #coefficiente per trasformare il redshift in un raggio, c/H0 = [km/s  / (km/s)/Mpc] = [Mpc], z è adimensionale\n",
    "\n",
    "kh = kh/h  #H0 = 70km/(s*Mpc) h=0.7 ma non era senza unità di misura?\n",
    "pk = pk*h**3"
   ]
  },
  {
   "cell_type": "code",
   "execution_count": 7,
   "metadata": {},
   "outputs": [],
   "source": [
    "z = np.array(z)"
   ]
  },
  {
   "cell_type": "code",
   "execution_count": 8,
   "metadata": {},
   "outputs": [
    {
     "data": {
      "text/plain": [
       "array([0.62105839, 0.81937971, 0.89630525])"
      ]
     },
     "execution_count": 8,
     "metadata": {},
     "output_type": "execute_result"
    }
   ],
   "source": [
    "om = results.get_Omega('cdm',0) + results.get_Omega('baryon',0)    #densità di materia nell'universo\n",
    "omz= om*(np.ones(len(z))+z)**3/(H(z)/H0)**2 #densità di materia a diverso z\n",
    "omz"
   ]
  },
  {
   "cell_type": "code",
   "execution_count": null,
   "metadata": {},
   "outputs": [],
   "source": []
  },
  {
   "cell_type": "markdown",
   "metadata": {},
   "source": [
    "Derivata composta della distanza cìdi luminosità\n",
    "\n",
    "dr/dz =  c/H\n",
    "\n",
    "dl = (1+z)*r \n",
    "\n",
    "dl'= r + (1+z)*c/H"
   ]
  },
  {
   "cell_type": "code",
   "execution_count": 9,
   "metadata": {},
   "outputs": [],
   "source": [
    "bias = np.ones(len(z)) + z*0.84   #funzione di bias delle galassie, cercane altre!!\n",
    "\n",
    "f = (results.get_fsigma8()/results.get_sigma8())\n",
    "dl = results.luminosity_distance(z[0])\n",
    "d= results.comoving_radial_distance(z[0])\n",
    " \n",
    "\n",
    "fl= (2*d/(np.ones(len(z))+z))/(np.ones(len(z))*d+(np.ones(len(z))+z)*2.99e5/H(z))\n",
    "\n",
    "mu = np.arange(-1,1,0.1)      #range di valori dell'angolo\n",
    "N = len(kh)*len(mu)   #numero di dati simulati\n"
   ]
  },
  {
   "cell_type": "code",
   "execution_count": null,
   "metadata": {},
   "outputs": [],
   "source": []
  },
  {
   "cell_type": "code",
   "execution_count": 10,
   "metadata": {},
   "outputs": [],
   "source": [
    "#Set di dati simulati spettro di potenza delle galassie\n",
    "\n",
    "Pgg = np.empty((len(kh),len(mu),len(zetas)))\n",
    "for i in range (len(kh)):\n",
    "    for j in range (len(mu)):\n",
    "        for m in range (len(zetas)):\n",
    "            Pgg[i][j][m] = float((bias[m] + fl[m] *f[m] * mu[j]**2)**2*pk[m,i])\n"
   ]
  },
  {
   "cell_type": "code",
   "execution_count": 11,
   "metadata": {},
   "outputs": [],
   "source": [
    "err_Pgg = np.ones((len(kh),len(mu),len(zetas)))"
   ]
  },
  {
   "cell_type": "code",
   "execution_count": 12,
   "metadata": {},
   "outputs": [],
   "source": [
    "gammas= np.arange(0,4,0.005)   #calcolo il chi quadro per un certo set di valori di gamma\n",
    "\n",
    "for k in range(len(gammas)):\n",
    "    gammas[k] = round (gammas[k],3)\n",
    "\n",
    "chi2 = np.zeros((len(gammas),len(zetas)))\n",
    "\n",
    "\n",
    "for k,gamma in enumerate(gammas):\n",
    "    for i in range (len(kh)):\n",
    "        for j in range (len(mu)):\n",
    "            for m in range (len(zetas)):\n",
    "                chi2[k,m]= chi2[k,m]+(float((bias[m] + (omz[m]**gamma)*fl[m] * (mu[j])**2)**2*pk[m,i]) - Pgg[i][j][m])**2/err_Pgg[i][j][m]**2\n",
    "        \n"
   ]
  },
  {
   "cell_type": "code",
   "execution_count": 13,
   "metadata": {},
   "outputs": [
    {
     "data": {
      "text/plain": [
       "[<matplotlib.lines.Line2D at 0x188568b00a0>]"
      ]
     },
     "execution_count": 13,
     "metadata": {},
     "output_type": "execute_result"
    },
    {
     "data": {
      "image/png": "[encoded data removed]",
      "text/plain": [
       "<Figure size 432x288 with 1 Axes>"
      ]
     },
     "metadata": {
      "image/png": {
       "height": 258,
       "width": 362
      },
      "needs_background": "light"
     },
     "output_type": "display_data"
    }
   ],
   "source": [
    "#INTERPOLAZIONE FUNZIONE CHI^2\n",
    "\n",
    "interpol1 =  interpolate.interp1d(gammas,chi2[:,0],kind='cubic')\n",
    "interpol2 =  interpolate.interp1d(gammas,chi2[:,1],kind='cubic')\n",
    "interpol3 =  interpolate.interp1d(gammas,chi2[:,2],kind='cubic')\n",
    "plt.plot(gammas, interpol3(gammas), '--')\n",
    "#plt.legend(['data', 'cubic'])\n",
    "#plt.xlabel(' gamma ')\n",
    "#plt.ylabel('Chi^2')\n",
    "\n",
    "#CALCOLO DELL'ERRORE\n",
    "xpoints= np.arange(0,4,0.005)\n",
    "ypoints = np.ones(len(xpoints))\n",
    "plt.plot(xpoints,ypoints)\n",
    "\n",
    "\n",
    "\n",
    "\n",
    "#plt.axis([0.54,0.56,0,3])"
   ]
  },
  {
   "cell_type": "code",
   "execution_count": 14,
   "metadata": {},
   "outputs": [],
   "source": [
    "type(interpol1)\n",
    "y1=lambda x: interpol1(x)\n",
    "\n",
    "type(interpol2)\n",
    "y2=lambda x: interpol2(x)\n",
    "\n",
    "type(interpol3)\n",
    "y3=lambda x: interpol3(x)\n"
   ]
  },
  {
   "cell_type": "code",
   "execution_count": 15,
   "metadata": {},
   "outputs": [
    {
     "data": {
      "text/plain": [
       "2.348503853901222"
      ]
     },
     "execution_count": 15,
     "metadata": {},
     "output_type": "execute_result"
    }
   ],
   "source": [
    "\n",
    "minimo1 = optimize.least_squares(y1,0.5)\n",
    "min1= float(minimo1.x)\n",
    "chi2min1= y1(min1)\n",
    "\n",
    "\n",
    "minimo2 = optimize.least_squares(y2,0.5)\n",
    "min2= float(minimo2.x)\n",
    "chi2min2= y2(min2)\n",
    "\n",
    "minimo3 = optimize.least_squares(y3,0.5)\n",
    "min3= float(minimo3.x)\n",
    "chi2min3= y3(min3)\n",
    "\n",
    "min3\n"
   ]
  },
  {
   "cell_type": "code",
   "execution_count": 16,
   "metadata": {},
   "outputs": [
    {
     "name": "stdout",
     "output_type": "stream",
     "text": [
      "0.11628320137768085 0.11628320137768085\n",
      "0.5246272627292524 0.5248565310131822\n",
      "2.348135898513363 2.348135898513363\n"
     ]
    }
   ],
   "source": [
    "y1_= lambda x: interpol1(x) - 1 -chi2min1\n",
    "intersec1a = optimize.brentq(y1_,0.45,min1)    #trova le soluzioni in un intervallo fissato\n",
    "intersec1b = optimize.brentq(y1_,min1,0.58)\n",
    "print(intersec1a,intersec1b)\n",
    "\n",
    "y2_= lambda x: interpol2(x) - 1 -chi2min2\n",
    "intersec2a = optimize.brentq(y2_,0.45,min2)    #trova le soluzioni in un intervallo fissato\n",
    "intersec2b = optimize.brentq(y2_,min2,0.58)\n",
    "print(intersec2a,intersec2b)\n",
    "\n",
    "y3_= lambda x: interpol3(x) - 1 -chi2min3\n",
    "intersec3a = optimize.brentq(y3_,0.45,min3)    #trova le soluzioni in un intervallo fissato\n",
    "intersec3b = optimize.brentq(y3_,min3,0.58)\n",
    "print(intersec3a,intersec3b)"
   ]
  },
  {
   "cell_type": "code",
   "execution_count": 17,
   "metadata": {},
   "outputs": [],
   "source": [
    "sigma = np.zeros(len(zetas))"
   ]
  },
  {
   "cell_type": "code",
   "execution_count": 22,
   "metadata": {},
   "outputs": [],
   "source": [
    "err1a=(np.abs(min1-intersec1a))\n",
    "err1b=(np.abs(min1-intersec1b))\n",
    "sigma[0] = err1a\n",
    "\n",
    "err2a=(np.abs(min2-intersec2a))\n",
    "err2b=(np.abs(min2-intersec2b))\n",
    "sigma[1] = err2a\n",
    "\n",
    "err3a=(np.abs(min3-intersec3a))\n",
    "err3b=(np.abs(min3-intersec3b))\n",
    "sigma[0] = err3a\n",
    "\n"
   ]
  },
  {
   "cell_type": "code",
   "execution_count": 23,
   "metadata": {},
   "outputs": [
    {
     "data": {
      "text/plain": [
       "array([2.16069804e-05, 1.14427590e-04, 3.67955388e-04])"
      ]
     },
     "execution_count": 23,
     "metadata": {},
     "output_type": "execute_result"
    }
   ],
   "source": [
    "sigma\n",
    "#conclusione: gli errori sono sempre più piccoli"
   ]
  },
  {
   "cell_type": "code",
   "execution_count": 24,
   "metadata": {},
   "outputs": [
    {
     "data": {
      "text/plain": [
       "[<matplotlib.lines.Line2D at 0x18858e5b160>]"
      ]
     },
     "execution_count": 24,
     "metadata": {},
     "output_type": "execute_result"
    },
    {
     "data": {
      "image/png": "[encoded data removed]",
      "text/plain": [
       "<Figure size 432x288 with 1 Axes>"
      ]
     },
     "metadata": {
      "image/png": {
       "height": 258,
       "width": 362
      },
      "needs_background": "light"
     },
     "output_type": "display_data"
    }
   ],
   "source": [
    "plt.plot(gammas, interpol2(gammas)-chi2min2, '--')\n",
    "#plt.legend(['data', 'cubic'])\n",
    "#plt.xlabel(' gamma ')\n",
    "#plt.ylabel('Chi^2')\n",
    "\n",
    "#CALCOLO DELL'ERRORE\n",
    "xpoints= np.arange(0,4,0.005)\n",
    "ypoints = np.ones(len(xpoints))\n",
    "plt.plot(xpoints,ypoints)\n",
    "\n",
    "#plt.axis([1,3,-1e7,2e7])"
   ]
  },
  {
   "cell_type": "code",
   "execution_count": 26,
   "metadata": {},
   "outputs": [
    {
     "data": {
      "text/plain": [
       "array([2.16069804e-05, 1.14427590e-04, 3.67955388e-04])"
      ]
     },
     "execution_count": 26,
     "metadata": {},
     "output_type": "execute_result"
    }
   ],
   "source": [
    "sigma"
   ]
  },
  {
   "cell_type": "code",
   "execution_count": 27,
   "metadata": {},
   "outputs": [
    {
     "data": {
      "text/plain": [
       "Text(0, 0.5, ' sigma ')"
      ]
     },
     "execution_count": 27,
     "metadata": {},
     "output_type": "execute_result"
    },
    {
     "data": {
      "image/png": "[encoded data removed]",
      "text/plain": [
       "<Figure size 432x288 with 1 Axes>"
      ]
     },
     "metadata": {
      "image/png": {
       "height": 261,
       "width": 411
      },
      "needs_background": "light"
     },
     "output_type": "display_data"
    }
   ],
   "source": [
    "plt.plot(zetas, sigma, '--')\n",
    "plt.xlabel(' z ')\n",
    "plt.ylabel(' sigma ')"
   ]
  },
  {
   "cell_type": "code",
   "execution_count": null,
   "metadata": {},
   "outputs": [],
   "source": []
  }
 ],
 "metadata": {
  "interpreter": {
   "hash": "a16dc526785c34c350c029294c9f2644c815a2c468f264c8890982736406c6b8"
  },
  "kernelspec": {
   "display_name": "Python 3 (ipykernel)",
   "language": "python",
   "name": "python3"
  },
  "language_info": {
   "codemirror_mode": {
    "name": "ipython",
    "version": 3
   },
   "file_extension": ".py",
   "mimetype": "text/x-python",
   "name": "python",
   "nbconvert_exporter": "python",
   "pygments_lexer": "ipython3",
   "version": "3.9.7"
  }
 },
 "nbformat": 4,
 "nbformat_minor": 2
}
