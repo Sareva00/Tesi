{
 "cells": [
  {
   "cell_type": "code",
   "execution_count": 13,
   "metadata": {},
   "outputs": [],
   "source": [
    "%matplotlib inline\n",
    "%config InlineBackend.figure_format = 'retina'\n",
    "import camb\n",
    "from camb import model, initialpower\n",
    "from camb.sources import GaussianSourceWindow, SplinedSourceWindow\n",
    "import numpy as np\n",
    "import sympy as sy\n",
    "from sympy import symbols\n",
    "from scipy import interpolate\n",
    "from scipy import optimize\n",
    "import matplotlib\n",
    "from matplotlib import pyplot as plt"
   ]
  },
  {
   "cell_type": "code",
   "execution_count": 14,
   "metadata": {},
   "outputs": [
    {
     "data": {
      "text/plain": [
       "class: <InitialPowerLaw>\n",
       " tensor_parameterization = tensor_param_rpivot\n",
       " ns = 0.965\n",
       " nrun = 0.0\n",
       " nrunrun = 0.0\n",
       " nt = -0.0\n",
       " ntrun = -0.0\n",
       " r = 0.0\n",
       " pivot_scalar = 0.05\n",
       " pivot_tensor = 0.05\n",
       " As = 2e-09\n",
       " At = 1.0\n",
       " "
      ]
     },
     "execution_count": 14,
     "metadata": {},
     "output_type": "execute_result"
    }
   ],
   "source": [
    "##PARAMETRI INIZIALI\n",
    "\n",
    "pars = camb.CAMBparams()  #0.022 0.122 67.5\n",
    "pars.set_cosmology(H0=73, ombh2=0.023, omch2=0.111)   #H0= hubble parameter today in km/s    ombh2=physical density in baryons omch2=physical density in cold dark matter\n",
    "#trovo densità diverse...\n",
    "pars.InitPower.set_params(ns=0.965)  #ns = scalar spectra index (inflaction)\n"
   ]
  },
  {
   "cell_type": "code",
   "execution_count": 15,
   "metadata": {},
   "outputs": [],
   "source": [
    "Z = np.arange(0,2,0.1)"
   ]
  },
  {
   "cell_type": "code",
   "execution_count": 16,
   "metadata": {},
   "outputs": [
    {
     "name": "stdout",
     "output_type": "stream",
     "text": [
      "Note: redshifts have been re-sorted (earliest first)\n"
     ]
    }
   ],
   "source": [
    "pars.set_matter_power(redshifts=Z, kmax=3.0)  \n",
    "pars.NonLinear = model.NonLinear_none\n",
    "results = camb.get_results(pars)   "
   ]
  },
  {
   "cell_type": "code",
   "execution_count": 17,
   "metadata": {},
   "outputs": [],
   "source": [
    "kh, z, pk = results.get_matter_power_spectrum(minkh=1e-2, maxkh=1e-1, npoints = 100) #nota, le z vengono ordinate, ricavo spettro di potenza"
   ]
  },
  {
   "cell_type": "code",
   "execution_count": 18,
   "metadata": {},
   "outputs": [],
   "source": [
    "H0 = results.hubble_parameter(0)    #parametri di hubble\n",
    "h = H0/100\n",
    "def H(z):\n",
    "    return results.hubble_parameter(z)\n",
    "\n",
    "kh = kh/h  #H0 = 70km/(s*Mpc) h=0.7 ma non era senza unità di misura?\n",
    "pk = pk*h**3"
   ]
  },
  {
   "cell_type": "code",
   "execution_count": 28,
   "metadata": {},
   "outputs": [],
   "source": [
    "\n",
    "\n",
    "f = (results.get_fsigma8()/results.get_sigma8())\n",
    "dl = results.luminosity_distance(z)\n",
    "\n",
    "d = np.zeros(len(z))\n",
    "for i,zt in enumerate(z):\n",
    "    d[i] = results.comoving_radial_distance(zt)\n",
    " #la calcola alla z scelta già, UNITà DI MISURA\n",
    "\n",
    "z = np.array(z)\n"
   ]
  },
  {
   "cell_type": "code",
   "execution_count": 29,
   "metadata": {},
   "outputs": [],
   "source": [
    "fl= (2*dl/(1+z))/(d+(1+z)*3e5/H(z))*f"
   ]
  },
  {
   "cell_type": "code",
   "execution_count": 30,
   "metadata": {},
   "outputs": [],
   "source": [
    "f1 =  interpolate.interp1d(z,fl,kind='cubic')\n",
    "f2 =  interpolate.interp1d(z,f,kind='cubic')\n"
   ]
  },
  {
   "cell_type": "code",
   "execution_count": 32,
   "metadata": {},
   "outputs": [
    {
     "data": {
      "text/plain": [
       "[<matplotlib.lines.Line2D at 0x226f33bec10>,\n",
       " <matplotlib.lines.Line2D at 0x226f33bec40>]"
      ]
     },
     "execution_count": 32,
     "metadata": {},
     "output_type": "execute_result"
    },
    {
     "data": {
      "image/png": "[encoded data removed]",
      "text/plain": [
       "<Figure size 432x288 with 1 Axes>"
      ]
     },
     "metadata": {
      "image/png": {
       "height": 248,
       "width": 372
      },
      "needs_background": "light"
     },
     "output_type": "display_data"
    }
   ],
   "source": [
    "fit, ax = plt.subplots()\n",
    "ax.plot(z,f1(z),'g', z,f2(z),'b')\n",
    "\n"
   ]
  },
  {
   "cell_type": "code",
   "execution_count": null,
   "metadata": {},
   "outputs": [],
   "source": []
  }
 ],
 "metadata": {
  "kernelspec": {
   "display_name": "Python 3.9.7 ('base')",
   "language": "python",
   "name": "python3"
  },
  "language_info": {
   "codemirror_mode": {
    "name": "ipython",
    "version": 3
   },
   "file_extension": ".py",
   "mimetype": "text/x-python",
   "name": "python",
   "nbconvert_exporter": "python",
   "pygments_lexer": "ipython3",
   "version": "3.9.7"
  },
  "orig_nbformat": 4,
  "vscode": {
   "interpreter": {
    "hash": "a16dc526785c34c350c029294c9f2644c815a2c468f264c8890982736406c6b8"
   }
  }
 },
 "nbformat": 4,
 "nbformat_minor": 2
}
