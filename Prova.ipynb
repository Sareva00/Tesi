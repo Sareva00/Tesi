{
 "cells": [
  {
   "cell_type": "code",
   "execution_count": 53,
   "metadata": {},
   "outputs": [],
   "source": [
    "%matplotlib inline\n",
    "#%config InlineBackend.figure_format = 'retina'\n",
    "import camb\n",
    "from camb import model, initialpower\n",
    "from camb.sources import GaussianSourceWindow, SplinedSourceWindow\n",
    "import numpy as np\n",
    "import sympy as sy\n",
    "from sympy import symbols\n",
    "import matplotlib\n",
    "from matplotlib import pyplot as plt"
   ]
  },
  {
   "cell_type": "code",
   "execution_count": 54,
   "metadata": {},
   "outputs": [
    {
     "data": {
      "text/plain": [
       "class: <InitialPowerLaw>\n",
       " tensor_parameterization = tensor_param_rpivot\n",
       " ns = 0.965\n",
       " nrun = 0.0\n",
       " nrunrun = 0.0\n",
       " nt = -0.0\n",
       " ntrun = -0.0\n",
       " r = 0.0\n",
       " pivot_scalar = 0.05\n",
       " pivot_tensor = 0.05\n",
       " As = 2e-09\n",
       " At = 1.0\n",
       " "
      ]
     },
     "execution_count": 54,
     "metadata": {},
     "output_type": "execute_result"
    }
   ],
   "source": [
    "##PARAMETRI INIZIALI\n",
    "\n",
    "pars = camb.CAMBparams()  #0.022 0.122 67.5\n",
    "pars.set_cosmology(H0=73, ombh2=0.023, omch2=0.111)   #H0= hubble parameter today in km/s    ombh2=physical density in baryons omch2=physical density in cold dark matter\n",
    "#trovo densità diverse...\n",
    "pars.InitPower.set_params(ns=0.965)  #ns = scalar spectra index (inflaction)\n"
   ]
  },
  {
   "cell_type": "code",
   "execution_count": 55,
   "metadata": {},
   "outputs": [],
   "source": [
    "pars.set_matter_power(redshifts=[1], kmax=2.0)  \n",
    "pars.NonLinear = model.NonLinear_none\n",
    "results = camb.get_results(pars)   "
   ]
  },
  {
   "cell_type": "code",
   "execution_count": 56,
   "metadata": {},
   "outputs": [],
   "source": [
    "kh, z, pk = results.get_matter_power_spectrum(minkh=1e-3, maxkh=1e-1, npoints = 100) #nota, le z vengono ordinate"
   ]
  },
  {
   "cell_type": "code",
   "execution_count": 57,
   "metadata": {},
   "outputs": [],
   "source": [
    "H0 = results.hubble_parameter(0) \n",
    "h = H0/100\n",
    "def H(z):\n",
    "    return results.hubble_parameter(z)"
   ]
  },
  {
   "cell_type": "code",
   "execution_count": 58,
   "metadata": {},
   "outputs": [],
   "source": [
    "bias = 1 + z[0]*0.84   #funzione di bias delle galassie, cercane altre!!\n",
    "f = (results.get_fsigma8()/results.get_sigma8())\n",
    " #la calcola alla z scelta già, UNITà DI MISURA\n",
    "\n",
    "kh = kh/h  #H0 = 70km/(s*Mpc) h=0.7 ma non era senza unità di misura?\n",
    "pk = pk*h**3\n",
    "\n",
    "mu = np.arange(-1,1,0.1)      #range di valori dell'angolo\n",
    "N = len(kh)*len(mu)   #numero di dati simulati"
   ]
  },
  {
   "cell_type": "code",
   "execution_count": 59,
   "metadata": {},
   "outputs": [
    {
     "data": {
      "text/plain": [
       "0.7263075672165862"
      ]
     },
     "execution_count": 59,
     "metadata": {},
     "output_type": "execute_result"
    }
   ],
   "source": [
    "om = results.get_Omega('cdm',0) + results.get_Omega('baryon',0)\n",
    "omz= om*(1+z[0])**3/(H(z[0])/H0)**2 #densità di materia a diverso z\n",
    "omz"
   ]
  },
  {
   "cell_type": "code",
   "execution_count": 60,
   "metadata": {},
   "outputs": [],
   "source": [
    "#Set di dati simulati spettro di potenza delle galassie\n",
    "\n",
    "Pgg = np.empty((len(kh),len(mu)))\n",
    "\n",
    "\n",
    "for i in range (len(kh)):\n",
    "    for j in range (len(mu)):\n",
    "        Pgg[i][j] = ( float((bias + omz**0.545 * (mu[j]**2))**2*pk[:,i]))\n"
   ]
  },
  {
   "cell_type": "code",
   "execution_count": 61,
   "metadata": {},
   "outputs": [
    {
     "data": {
      "text/plain": [
       "4603.689619595524"
      ]
     },
     "execution_count": 61,
     "metadata": {},
     "output_type": "execute_result"
    }
   ],
   "source": [
    "Pgg[1][2]\n"
   ]
  },
  {
   "cell_type": "code",
   "execution_count": null,
   "metadata": {},
   "outputs": [],
   "source": []
  },
  {
   "cell_type": "code",
   "execution_count": 62,
   "metadata": {},
   "outputs": [
    {
     "name": "stdout",
     "output_type": "stream",
     "text": [
      "[0.84301527]\n",
      "0.8400607816767275\n"
     ]
    }
   ],
   "source": [
    "print(f)\n",
    "print(omz**0.545)"
   ]
  },
  {
   "cell_type": "code",
   "execution_count": 63,
   "metadata": {},
   "outputs": [],
   "source": [
    "##Errori dei dati simulati\n",
    "ng= 15e-4   #mean galaxy number density for z near 0 (Euclid spettroscopy survey)\n",
    "DeltaMu = np.abs(mu[0]-mu[1])\n",
    "DeltaZ = 1\n",
    "DeltaK = np.empty((len(kh)))\n",
    "\n",
    "for i in range (len (kh)):\n",
    "    if i==0 : DeltaK[i]= np.abs(kh[i+1]-kh[i])\n",
    "    elif i==len(kh)-1:\n",
    "       DeltaK[i]= np.abs(kh[i-1]-kh[i])\n",
    "    else: DeltaK[i]= np.abs(kh[i+1]-kh[i])/2+ np.abs(kh[i-1]-kh[i])/2\n",
    "    \n",
    "    \n",
    "cost=(3e8/70)**3  #coefficiente per trasformare il redshift in un raggio\n",
    "\n",
    "N = np.empty((len(kh),len(mu)))\n",
    "Vol = 4./3.*np.pi*(cost*(z[0]+DeltaZ/2)**3-(z[0]-DeltaZ/2)**3)\n",
    "\n",
    "for j in range(len(kh)):\n",
    "    N[j,:]= Vol*1/(2*np.pi)**2 * kh[j]**2*DeltaMu*DeltaK[j]  #uguale per tutte le mu\n",
    "\n",
    "err_Pgg = np.empty((len(kh),len(mu)))\n",
    "for i in range (len(kh)):\n",
    "    for j in range (len(mu)):\n",
    "        err_Pgg[i][j] = np.sqrt(2/N[i][j])*(Pgg[i][j]+1/ng)\n",
    "\n",
    "\n"
   ]
  },
  {
   "cell_type": "code",
   "execution_count": 64,
   "metadata": {},
   "outputs": [
    {
     "name": "stdout",
     "output_type": "stream",
     "text": [
      "0.4\n",
      "0.401\n",
      "0.402\n",
      "0.403\n",
      "0.404\n",
      "0.405\n",
      "0.406\n",
      "0.407\n",
      "0.408\n",
      "0.409\n",
      "0.41\n",
      "0.411\n",
      "0.412\n",
      "0.413\n",
      "0.414\n",
      "0.415\n",
      "0.416\n",
      "0.417\n",
      "0.418\n",
      "0.419\n",
      "0.42\n",
      "0.421\n",
      "0.422\n",
      "0.423\n",
      "0.424\n",
      "0.425\n",
      "0.426\n",
      "0.427\n",
      "0.428\n",
      "0.429\n",
      "0.43\n",
      "0.431\n",
      "0.432\n",
      "0.433\n",
      "0.434\n",
      "0.435\n",
      "0.436\n",
      "0.437\n",
      "0.438\n",
      "0.439\n",
      "0.44\n",
      "0.441\n",
      "0.442\n",
      "0.443\n",
      "0.444\n",
      "0.445\n",
      "0.446\n",
      "0.447\n",
      "0.448\n",
      "0.449\n",
      "0.45\n",
      "0.451\n",
      "0.452\n",
      "0.453\n",
      "0.454\n",
      "0.455\n",
      "0.456\n",
      "0.457\n",
      "0.458\n",
      "0.459\n",
      "0.46\n",
      "0.461\n",
      "0.462\n",
      "0.463\n",
      "0.464\n",
      "0.465\n",
      "0.466\n",
      "0.467\n",
      "0.468\n",
      "0.469\n",
      "0.47\n",
      "0.471\n",
      "0.472\n",
      "0.473\n",
      "0.474\n",
      "0.475\n",
      "0.476\n",
      "0.477\n",
      "0.478\n",
      "0.479\n",
      "0.48\n",
      "0.481\n",
      "0.482\n",
      "0.483\n",
      "0.484\n",
      "0.485\n",
      "0.486\n",
      "0.487\n",
      "0.488\n",
      "0.489\n",
      "0.49\n",
      "0.491\n",
      "0.492\n",
      "0.493\n",
      "0.494\n",
      "0.495\n",
      "0.496\n",
      "0.497\n",
      "0.498\n",
      "0.499\n",
      "0.5\n",
      "0.501\n",
      "0.502\n",
      "0.503\n",
      "0.504\n",
      "0.505\n",
      "0.506\n",
      "0.507\n",
      "0.508\n",
      "0.509\n",
      "0.51\n",
      "0.511\n",
      "0.512\n",
      "0.513\n",
      "0.514\n",
      "0.515\n",
      "0.516\n",
      "0.517\n",
      "0.518\n",
      "0.519\n",
      "0.52\n",
      "0.521\n",
      "0.522\n",
      "0.523\n",
      "0.524\n",
      "0.525\n",
      "0.526\n",
      "0.527\n",
      "0.528\n",
      "0.529\n",
      "0.53\n",
      "0.531\n",
      "0.532\n",
      "0.533\n",
      "0.534\n",
      "0.535\n",
      "0.536\n",
      "0.537\n",
      "0.538\n",
      "0.539\n",
      "0.54\n",
      "0.541\n",
      "0.542\n",
      "0.543\n",
      "0.544\n",
      "0.545\n",
      "0.546\n",
      "0.547\n",
      "0.548\n",
      "0.549\n",
      "0.55\n",
      "0.551\n",
      "0.552\n",
      "0.553\n",
      "0.554\n",
      "0.555\n",
      "0.556\n",
      "0.557\n",
      "0.558\n",
      "0.559\n",
      "0.56\n",
      "0.561\n",
      "0.562\n",
      "0.563\n",
      "0.564\n",
      "0.565\n",
      "0.566\n",
      "0.567\n",
      "0.568\n",
      "0.569\n",
      "0.57\n",
      "0.571\n",
      "0.572\n",
      "0.573\n",
      "0.574\n",
      "0.575\n",
      "0.576\n",
      "0.577\n",
      "0.578\n",
      "0.579\n",
      "0.58\n",
      "0.581\n",
      "0.582\n",
      "0.583\n",
      "0.584\n",
      "0.585\n",
      "0.586\n",
      "0.587\n",
      "0.588\n",
      "0.589\n",
      "0.59\n",
      "0.591\n",
      "0.592\n",
      "0.593\n",
      "0.594\n",
      "0.595\n",
      "0.596\n",
      "0.597\n",
      "0.598\n",
      "0.599\n"
     ]
    }
   ],
   "source": [
    "gammas= np.arange(0.400,0.600,0.001)\n",
    "\n",
    "\n",
    "for k in range(len(gammas)):\n",
    "    gammas[k] = round (gammas[k],3)\n",
    "    print(gammas[k])\n",
    "    \n",
    "\n"
   ]
  },
  {
   "cell_type": "code",
   "execution_count": 83,
   "metadata": {},
   "outputs": [],
   "source": [
    "chi2 = np.zeros(len(gammas))\n",
    "\n"
   ]
  },
  {
   "cell_type": "code",
   "execution_count": 81,
   "metadata": {},
   "outputs": [],
   "source": [
    "\n",
    "for k in range(len(gammas)):\n",
    "    for i in range (len(kh)):\n",
    "        for j in range (len(mu)):\n",
    "\n",
    "            chi2[k]= chi2[k]+((float((bias + (omz**gammas[k]) * (mu[j])**2)**2*pk[:,i])-Pgg[i][j])**2/err_Pgg[i][j]**2)\n"
   ]
  },
  {
   "cell_type": "code",
   "execution_count": 82,
   "metadata": {},
   "outputs": [
    {
     "data": {
      "text/plain": [
       "0.0"
      ]
     },
     "execution_count": 82,
     "metadata": {},
     "output_type": "execute_result"
    }
   ],
   "source": [
    "min= np.min(chi2)\n",
    "index_min = np.argmin(chi2)\n",
    "gamma_min = gammas[index_min]\n",
    "min\n"
   ]
  },
  {
   "cell_type": "code",
   "execution_count": 67,
   "metadata": {},
   "outputs": [
    {
     "data": {
      "text/plain": [
       "<matplotlib.collections.PathCollection at 0x204879f50d0>"
      ]
     },
     "execution_count": 67,
     "metadata": {},
     "output_type": "execute_result"
    },
    {
     "data": {
      "image/png": "[encoded data removed]",
      "text/plain": [
       "<Figure size 432x288 with 1 Axes>"
      ]
     },
     "metadata": {
      "needs_background": "light"
     },
     "output_type": "display_data"
    }
   ],
   "source": [
    "plt.scatter(gammas,chi2)"
   ]
  },
  {
   "cell_type": "code",
   "execution_count": 68,
   "metadata": {},
   "outputs": [
    {
     "data": {
      "text/plain": [
       "array([4.70795541e+012, 4.64138068e+012, 4.57530623e+012, 4.50973149e+012,\n",
       "       4.44465587e+012, 4.38007881e+012, 4.31599973e+012, 4.25241805e+012,\n",
       "       4.18933320e+012, 4.12674460e+012, 4.06465168e+012, 4.00305387e+012,\n",
       "       3.94195059e+012, 3.88134128e+012, 3.82122536e+012, 3.76160226e+012,\n",
       "       3.70247142e+012, 3.64383225e+012, 3.58568420e+012, 3.52802669e+012,\n",
       "       3.47085916e+012, 3.41418104e+012, 3.35799176e+012, 3.30229076e+012,\n",
       "       3.24707747e+012, 3.19235133e+012, 3.13811176e+012, 3.08435822e+012,\n",
       "       3.03109013e+012, 2.97830693e+012, 2.92600806e+012, 2.87419296e+012,\n",
       "       2.82286106e+012, 2.77201181e+012, 2.72164464e+012, 2.67175900e+012,\n",
       "       2.62235433e+012, 2.57343007e+012, 2.52498566e+012, 2.47702054e+012,\n",
       "       2.42953415e+012, 2.38252595e+012, 2.33599538e+012, 2.28994187e+012,\n",
       "       2.24436488e+012, 2.19926385e+012, 2.15463822e+012, 2.11048745e+012,\n",
       "       2.06681099e+012, 2.02360827e+012, 1.98087875e+012, 1.93862189e+012,\n",
       "       1.89683711e+012, 1.85552389e+012, 1.81468167e+012, 1.77430990e+012,\n",
       "       1.73440803e+012, 1.69497551e+012, 1.65601181e+012, 1.61751636e+012,\n",
       "       1.57948863e+012, 1.54192807e+012, 1.50483414e+012, 1.46820629e+012,\n",
       "       1.43204397e+012, 1.39634665e+012, 1.36111378e+012, 1.32634482e+012,\n",
       "       1.29203923e+012, 1.25819646e+012, 1.22481598e+012, 1.19189725e+012,\n",
       "       1.15943972e+012, 1.12744286e+012, 1.09590613e+012, 1.06482899e+012,\n",
       "       1.03421090e+012, 1.00405133e+012, 9.74349738e+011, 9.45105593e+011,\n",
       "       9.16318358e+011, 8.87987497e+011, 8.60112476e+011, 8.32692762e+011,\n",
       "       8.05727822e+011, 7.79217122e+011, 7.53160132e+011, 7.27556318e+011,\n",
       "       7.02405151e+011, 6.77706099e+011, 6.53458632e+011, 6.29662222e+011,\n",
       "       6.06316339e+011, 5.83420454e+011, 5.60974040e+011, 5.38976569e+011,\n",
       "       5.17427514e+011, 4.96326350e+011, 4.75672549e+011, 4.55465587e+011,\n",
       "       4.35704938e+011, 4.16390079e+011, 3.97520486e+011, 3.79095635e+011,\n",
       "       3.61115004e+011, 3.43578071e+011, 3.26484312e+011, 3.09833209e+011,\n",
       "       2.93624239e+011, 2.77856882e+011, 2.62530619e+011, 2.47644931e+011,\n",
       "       2.33199298e+011, 2.19193204e+011, 2.05626129e+011, 1.92497558e+011,\n",
       "       1.79806973e+011, 1.67553858e+011, 1.55737697e+011, 1.44357977e+011,\n",
       "       1.33414181e+011, 1.22905796e+011, 1.12832308e+011, 1.03193204e+011,\n",
       "       9.39879716e+010, 8.52160989e+010, 7.68770741e+010, 6.89703862e+010,\n",
       "       6.14955246e+010, 5.44519793e+010, 4.78392406e+010, 4.16567996e+010,\n",
       "       3.59041477e+010, 3.05807768e+010, 2.56861794e+010, 2.12198485e+010,\n",
       "       1.71812775e+010, 1.35699604e+010, 1.03853915e+010, 7.62706590e+009,\n",
       "       5.29447898e+009, 3.38712669e+009, 1.90450546e+009, 8.46112237e+008,\n",
       "       2.11444442e+008, 1.09706078e-311, 2.11277331e+008, 8.44775346e+008,\n",
       "       1.89999345e+009, 3.37643155e+009, 5.27359004e+009, 7.59096979e+009,\n",
       "       1.03280722e+010, 1.34843991e+010, 1.70594529e+010, 2.10527364e+010,\n",
       "       2.54637530e+010, 3.02920064e+010, 3.55370011e+010, 4.11982418e+010,\n",
       "       4.72752338e+010, 5.37674829e+010, 6.06744953e+010, 6.79957778e+010,\n",
       "       7.57308378e+010, 8.38791827e+010, 9.24403210e+010, 1.01413761e+011,\n",
       "       1.10799013e+011, 1.20595585e+011, 1.30802988e+011, 1.41420733e+011,\n",
       "       1.52448331e+011, 1.63885293e+011, 1.75731131e+011, 1.87985358e+011,\n",
       "       2.00647488e+011, 2.13717033e+011, 2.27193507e+011, 2.41076425e+011,\n",
       "       2.55365303e+011, 2.70059654e+011, 2.85158996e+011, 3.00662845e+011,\n",
       "       3.16570717e+011, 3.32882130e+011, 3.49596602e+011, 3.66713651e+011,\n",
       "       3.84232796e+011, 4.02153555e+011, 4.20475450e+011, 4.39197999e+011,\n",
       "       4.58320724e+011, 4.77843146e+011, 4.97764786e+011, 5.18085166e+011,\n",
       "       5.38803809e+011, 5.59920239e+011, 5.81433978e+011, 6.03344550e+011])"
      ]
     },
     "execution_count": 68,
     "metadata": {},
     "output_type": "execute_result"
    }
   ],
   "source": [
    "chi2"
   ]
  },
  {
   "cell_type": "code",
   "execution_count": null,
   "metadata": {},
   "outputs": [],
   "source": []
  }
 ],
 "metadata": {
  "interpreter": {
   "hash": "a16dc526785c34c350c029294c9f2644c815a2c468f264c8890982736406c6b8"
  },
  "kernelspec": {
   "display_name": "Python 3 (ipykernel)",
   "language": "python",
   "name": "python3"
  },
  "language_info": {
   "codemirror_mode": {
    "name": "ipython",
    "version": 3
   },
   "file_extension": ".py",
   "mimetype": "text/x-python",
   "name": "python",
   "nbconvert_exporter": "python",
   "pygments_lexer": "ipython3",
   "version": "3.9.7"
  }
 },
 "nbformat": 4,
 "nbformat_minor": 2
}
